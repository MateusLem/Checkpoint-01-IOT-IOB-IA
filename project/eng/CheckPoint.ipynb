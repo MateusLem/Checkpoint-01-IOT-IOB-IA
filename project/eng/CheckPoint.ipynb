{
  "cells": [
    {
      "cell_type": "markdown",
      "metadata": {
        "dotnet_interactive": {
          "language": "csharp"
        },
        "id": "cgxrm09UgaUy",
        "polyglot_notebook": {
          "kernelName": "csharp"
        }
      },
      "source": [
        "## Machine Learning\n",
        "### Goals\n",
        "\n",
        "  - Evaluate the concepts of machine learning taught in the course\n"
      ]
    },
    {
      "cell_type": "markdown",
      "metadata": {
        "dotnet_interactive": {
          "language": "csharp"
        },
        "id": "8l7SlzxtgaUz",
        "polyglot_notebook": {
          "kernelName": "csharp"
        }
      },
      "source": [
        "# Challenge\n",
        "\n",
        "You were hired by an innovative company in the real estate sector as `QuintoAndar, Loft, Terraz, Zap Group (ZAP, Viva Real, DataZAP, FipeZAP, SuaHouse, Geoimóvel, Sub100 and Conecta Imobi) or Imobi Conference`. Your challenge is to support decision making based on data (Data Driven Company).\n",
        "\n",
        "Nesse sentido, use a base de dados **aptos.csv** para realizar a descoberta do conhecimento e responder a pergunta: \n",
        "\n",
        "In this sense, use the **aptos.csv** database to discover knowledge and answer the question:\n",
        "\n",
        "**`How much is an apartment worth 72m² with 2 bedrooms, 2 parking spaces, renovated in the Center?`**\n"
      ]
    },
    {
      "cell_type": "markdown",
      "metadata": {
        "dotnet_interactive": {
          "language": "csharp"
        },
        "id": "Y824qiCtgaU0",
        "polyglot_notebook": {
          "kernelName": "csharp"
        }
      },
      "source": [
        "### Guidelines\n",
        "\n",
        "Follow the instructions, completing and building the necessary algorithms.\n",
        "\n",
        "In the cells `Your Code here...` means that it is necessary to implement some code. Use as many blocks (cells) as necessary to create the code.\n",
        "\n",
        "In the cells `Answer` means that it is necessary a clear and objective answer (can be by text, code, graph, image ...) to the question."
      ]
    },
    {
      "cell_type": "markdown",
      "metadata": {
        "dotnet_interactive": {
          "language": "csharp"
        },
        "id": "7IFRUZUWgaU0",
        "polyglot_notebook": {
          "kernelName": "csharp"
        }
      },
      "source": [
        "## Rubric for evaluation\n",
        "    \n",
        "The criterias for evaluation of the project follows as the rubric.\n",
        "\n",
        "- R1: Data Exploration (Up to 2 points)\n",
        "- R2: Descriptive Data Analysis (Up to 2 points)\n",
        "- R3: Model Development (Up to 2 points)\n",
        "- R4: Train and Test of the Model (Up to 2 points)\n",
        "- R5: Final Considerations (Up to 2 points)\n",
        "\n",
        "**Final_grade = R1 + R2 + R3 + R4 + R5**"
      ]
    },
    {
      "cell_type": "markdown",
      "metadata": {
        "dotnet_interactive": {
          "language": "csharp"
        },
        "id": "N6QOz3b9gaU0",
        "polyglot_notebook": {
          "kernelName": "csharp"
        }
      },
      "source": [
        "## 1. Data Exploration\n",
        "\n",
        "Load the dataset and inspect the first 15 lines to identify the basic attributes.\n"
      ]
    },
    {
      "cell_type": "code",
      "execution_count": 1,
      "metadata": {
        "dotnet_interactive": {
          "language": "csharp"
        },
        "id": "uey9OXf1gaU0",
        "polyglot_notebook": {
          "kernelName": "csharp"
        }
      },
      "outputs": [],
      "source": [
        "import seaborn as sns\n",
        "import matplotlib.pyplot as plt\n",
        "import pandas as pd\n",
        "import numpy as np\n",
        "\n",
        "%matplotlib inline"
      ]
    },
    {
      "cell_type": "code",
      "execution_count": 2,
      "metadata": {
        "dotnet_interactive": {
          "language": "csharp"
        },
        "id": "73cTcC6CgaU1",
        "polyglot_notebook": {
          "kernelName": "csharp"
        }
      },
      "outputs": [],
      "source": [
        "df = pd.read_csv('../dataframe/aptos.csv')"
      ]
    },
    {
      "cell_type": "markdown",
      "metadata": {
        "dotnet_interactive": {
          "language": "csharp"
        },
        "id": "yOv1IjA8gaU2",
        "polyglot_notebook": {
          "kernelName": "csharp"
        }
      },
      "source": [
        "###Comprension of the data"
      ]
    },
    {
      "cell_type": "code",
      "execution_count": 3,
      "metadata": {
        "colab": {
          "base_uri": "https://localhost:8080/",
          "height": 520
        },
        "dotnet_interactive": {
          "language": "csharp"
        },
        "id": "YKoOg6gggaU2",
        "outputId": "619ad9ab-deff-489f-ea1d-5702c20add13",
        "polyglot_notebook": {
          "kernelName": "csharp"
        }
      },
      "outputs": [
        {
          "data": {
            "text/html": [
              "\n",
              "  <div id=\"df-2dbe98ec-a590-4e5b-b9d0-a3fdc3d418d8\">\n",
              "    <div class=\"colab-df-container\">\n",
              "      <div>\n",
              "<style scoped>\n",
              "    .dataframe tbody tr th:only-of-type {\n",
              "        vertical-align: middle;\n",
              "    }\n",
              "\n",
              "    .dataframe tbody tr th {\n",
              "        vertical-align: top;\n",
              "    }\n",
              "\n",
              "    .dataframe thead th {\n",
              "        text-align: right;\n",
              "    }\n",
              "</style>\n",
              "<table border=\"1\" class=\"dataframe\">\n",
              "  <thead>\n",
              "    <tr style=\"text-align: right;\">\n",
              "      <th></th>\n",
              "      <th>metros</th>\n",
              "      <th>valor</th>\n",
              "      <th>quartos</th>\n",
              "      <th>vagas</th>\n",
              "      <th>reformado</th>\n",
              "      <th>bairro</th>\n",
              "    </tr>\n",
              "  </thead>\n",
              "  <tbody>\n",
              "    <tr>\n",
              "      <th>0</th>\n",
              "      <td>107</td>\n",
              "      <td>560.0</td>\n",
              "      <td>3</td>\n",
              "      <td>2</td>\n",
              "      <td>0.0</td>\n",
              "      <td>Vila Lusitania</td>\n",
              "    </tr>\n",
              "    <tr>\n",
              "      <th>1</th>\n",
              "      <td>107</td>\n",
              "      <td>555.0</td>\n",
              "      <td>3</td>\n",
              "      <td>2</td>\n",
              "      <td>1.0</td>\n",
              "      <td>Vila Lusitania</td>\n",
              "    </tr>\n",
              "    <tr>\n",
              "      <th>2</th>\n",
              "      <td>49</td>\n",
              "      <td>196.0</td>\n",
              "      <td>2</td>\n",
              "      <td>1</td>\n",
              "      <td>0.0</td>\n",
              "      <td>Ferrazopolis</td>\n",
              "    </tr>\n",
              "    <tr>\n",
              "      <th>3</th>\n",
              "      <td>104</td>\n",
              "      <td>515.0</td>\n",
              "      <td>3</td>\n",
              "      <td>2</td>\n",
              "      <td>1.0</td>\n",
              "      <td>Centro</td>\n",
              "    </tr>\n",
              "    <tr>\n",
              "      <th>4</th>\n",
              "      <td>92</td>\n",
              "      <td>560.0</td>\n",
              "      <td>3</td>\n",
              "      <td>2</td>\n",
              "      <td>1.0</td>\n",
              "      <td>Vila Lusitania</td>\n",
              "    </tr>\n",
              "    <tr>\n",
              "      <th>5</th>\n",
              "      <td>51</td>\n",
              "      <td>249.0</td>\n",
              "      <td>2</td>\n",
              "      <td>1</td>\n",
              "      <td>0.0</td>\n",
              "      <td>Taboao</td>\n",
              "    </tr>\n",
              "    <tr>\n",
              "      <th>6</th>\n",
              "      <td>140</td>\n",
              "      <td>635.0</td>\n",
              "      <td>4</td>\n",
              "      <td>3</td>\n",
              "      <td>1.0</td>\n",
              "      <td>Centro</td>\n",
              "    </tr>\n",
              "    <tr>\n",
              "      <th>7</th>\n",
              "      <td>50</td>\n",
              "      <td>210.0</td>\n",
              "      <td>2</td>\n",
              "      <td>1</td>\n",
              "      <td>1.0</td>\n",
              "      <td>Demarchi</td>\n",
              "    </tr>\n",
              "    <tr>\n",
              "      <th>8</th>\n",
              "      <td>93</td>\n",
              "      <td>450.0</td>\n",
              "      <td>3</td>\n",
              "      <td>2</td>\n",
              "      <td>0.0</td>\n",
              "      <td>Baeta Neves</td>\n",
              "    </tr>\n",
              "    <tr>\n",
              "      <th>9</th>\n",
              "      <td>107</td>\n",
              "      <td>425.0</td>\n",
              "      <td>3</td>\n",
              "      <td>2</td>\n",
              "      <td>1.0</td>\n",
              "      <td>Rudge Ramos</td>\n",
              "    </tr>\n",
              "    <tr>\n",
              "      <th>10</th>\n",
              "      <td>100</td>\n",
              "      <td>422.0</td>\n",
              "      <td>3</td>\n",
              "      <td>2</td>\n",
              "      <td>1.0</td>\n",
              "      <td>Baeta Neves</td>\n",
              "    </tr>\n",
              "    <tr>\n",
              "      <th>11</th>\n",
              "      <td>64</td>\n",
              "      <td>250.0</td>\n",
              "      <td>2</td>\n",
              "      <td>1</td>\n",
              "      <td>1.0</td>\n",
              "      <td>Pauliceia</td>\n",
              "    </tr>\n",
              "    <tr>\n",
              "      <th>12</th>\n",
              "      <td>65</td>\n",
              "      <td>350.0</td>\n",
              "      <td>2</td>\n",
              "      <td>2</td>\n",
              "      <td>1.0</td>\n",
              "      <td>Centro</td>\n",
              "    </tr>\n",
              "    <tr>\n",
              "      <th>13</th>\n",
              "      <td>71</td>\n",
              "      <td>303.0</td>\n",
              "      <td>3</td>\n",
              "      <td>1</td>\n",
              "      <td>0.0</td>\n",
              "      <td>Centro</td>\n",
              "    </tr>\n",
              "    <tr>\n",
              "      <th>14</th>\n",
              "      <td>64</td>\n",
              "      <td>294.0</td>\n",
              "      <td>3</td>\n",
              "      <td>1</td>\n",
              "      <td>0.0</td>\n",
              "      <td>Planalto</td>\n",
              "    </tr>\n",
              "  </tbody>\n",
              "</table>\n",
              "</div>\n",
              "      <button class=\"colab-df-convert\" onclick=\"convertToInteractive('df-2dbe98ec-a590-4e5b-b9d0-a3fdc3d418d8')\"\n",
              "              title=\"Convert this dataframe to an interactive table.\"\n",
              "              style=\"display:none;\">\n",
              "        \n",
              "  <svg xmlns=\"http://www.w3.org/2000/svg\" height=\"24px\"viewBox=\"0 0 24 24\"\n",
              "       width=\"24px\">\n",
              "    <path d=\"M0 0h24v24H0V0z\" fill=\"none\"/>\n",
              "    <path d=\"M18.56 5.44l.94 2.06.94-2.06 2.06-.94-2.06-.94-.94-2.06-.94 2.06-2.06.94zm-11 1L8.5 8.5l.94-2.06 2.06-.94-2.06-.94L8.5 2.5l-.94 2.06-2.06.94zm10 10l.94 2.06.94-2.06 2.06-.94-2.06-.94-.94-2.06-.94 2.06-2.06.94z\"/><path d=\"M17.41 7.96l-1.37-1.37c-.4-.4-.92-.59-1.43-.59-.52 0-1.04.2-1.43.59L10.3 9.45l-7.72 7.72c-.78.78-.78 2.05 0 2.83L4 21.41c.39.39.9.59 1.41.59.51 0 1.02-.2 1.41-.59l7.78-7.78 2.81-2.81c.8-.78.8-2.07 0-2.86zM5.41 20L4 18.59l7.72-7.72 1.47 1.35L5.41 20z\"/>\n",
              "  </svg>\n",
              "      </button>\n",
              "      \n",
              "  <style>\n",
              "    .colab-df-container {\n",
              "      display:flex;\n",
              "      flex-wrap:wrap;\n",
              "      gap: 12px;\n",
              "    }\n",
              "\n",
              "    .colab-df-convert {\n",
              "      background-color: #E8F0FE;\n",
              "      border: none;\n",
              "      border-radius: 50%;\n",
              "      cursor: pointer;\n",
              "      display: none;\n",
              "      fill: #1967D2;\n",
              "      height: 32px;\n",
              "      padding: 0 0 0 0;\n",
              "      width: 32px;\n",
              "    }\n",
              "\n",
              "    .colab-df-convert:hover {\n",
              "      background-color: #E2EBFA;\n",
              "      box-shadow: 0px 1px 2px rgba(60, 64, 67, 0.3), 0px 1px 3px 1px rgba(60, 64, 67, 0.15);\n",
              "      fill: #174EA6;\n",
              "    }\n",
              "\n",
              "    [theme=dark] .colab-df-convert {\n",
              "      background-color: #3B4455;\n",
              "      fill: #D2E3FC;\n",
              "    }\n",
              "\n",
              "    [theme=dark] .colab-df-convert:hover {\n",
              "      background-color: #434B5C;\n",
              "      box-shadow: 0px 1px 3px 1px rgba(0, 0, 0, 0.15);\n",
              "      filter: drop-shadow(0px 1px 2px rgba(0, 0, 0, 0.3));\n",
              "      fill: #FFFFFF;\n",
              "    }\n",
              "  </style>\n",
              "\n",
              "      <script>\n",
              "        const buttonEl =\n",
              "          document.querySelector('#df-2dbe98ec-a590-4e5b-b9d0-a3fdc3d418d8 button.colab-df-convert');\n",
              "        buttonEl.style.display =\n",
              "          google.colab.kernel.accessAllowed ? 'block' : 'none';\n",
              "\n",
              "        async function convertToInteractive(key) {\n",
              "          const element = document.querySelector('#df-2dbe98ec-a590-4e5b-b9d0-a3fdc3d418d8');\n",
              "          const dataTable =\n",
              "            await google.colab.kernel.invokeFunction('convertToInteractive',\n",
              "                                                     [key], {});\n",
              "          if (!dataTable) return;\n",
              "\n",
              "          const docLinkHtml = 'Like what you see? Visit the ' +\n",
              "            '<a target=\"_blank\" href=https://colab.research.google.com/notebooks/data_table.ipynb>data table notebook</a>'\n",
              "            + ' to learn more about interactive tables.';\n",
              "          element.innerHTML = '';\n",
              "          dataTable['output_type'] = 'display_data';\n",
              "          await google.colab.output.renderOutput(dataTable, element);\n",
              "          const docLink = document.createElement('div');\n",
              "          docLink.innerHTML = docLinkHtml;\n",
              "          element.appendChild(docLink);\n",
              "        }\n",
              "      </script>\n",
              "    </div>\n",
              "  </div>\n",
              "  "
            ],
            "text/plain": [
              "    metros  valor  quartos  vagas  reformado          bairro\n",
              "0      107  560.0        3      2        0.0  Vila Lusitania\n",
              "1      107  555.0        3      2        1.0  Vila Lusitania\n",
              "2       49  196.0        2      1        0.0    Ferrazopolis\n",
              "3      104  515.0        3      2        1.0          Centro\n",
              "4       92  560.0        3      2        1.0  Vila Lusitania\n",
              "5       51  249.0        2      1        0.0          Taboao\n",
              "6      140  635.0        4      3        1.0          Centro\n",
              "7       50  210.0        2      1        1.0        Demarchi\n",
              "8       93  450.0        3      2        0.0     Baeta Neves\n",
              "9      107  425.0        3      2        1.0     Rudge Ramos\n",
              "10     100  422.0        3      2        1.0     Baeta Neves\n",
              "11      64  250.0        2      1        1.0       Pauliceia\n",
              "12      65  350.0        2      2        1.0          Centro\n",
              "13      71  303.0        3      1        0.0          Centro\n",
              "14      64  294.0        3      1        0.0        Planalto"
            ]
          },
          "execution_count": 3,
          "metadata": {},
          "output_type": "execute_result"
        }
      ],
      "source": [
        "df.head(15)"
      ]
    },
    {
      "cell_type": "code",
      "execution_count": 4,
      "metadata": {
        "colab": {
          "base_uri": "https://localhost:8080/"
        },
        "dotnet_interactive": {
          "language": "csharp"
        },
        "id": "_VXaurZSgaU2",
        "outputId": "7353e932-6872-45bb-e3dd-240665cabc27",
        "polyglot_notebook": {
          "kernelName": "csharp"
        }
      },
      "outputs": [
        {
          "name": "stdout",
          "output_type": "stream",
          "text": [
            "<class 'pandas.core.frame.DataFrame'>\n",
            "RangeIndex: 114 entries, 0 to 113\n",
            "Data columns (total 6 columns):\n",
            " #   Column     Non-Null Count  Dtype  \n",
            "---  ------     --------------  -----  \n",
            " 0   metros     114 non-null    int64  \n",
            " 1   valor      113 non-null    float64\n",
            " 2   quartos    114 non-null    int64  \n",
            " 3   vagas      114 non-null    int64  \n",
            " 4   reformado  113 non-null    float64\n",
            " 5   bairro     114 non-null    object \n",
            "dtypes: float64(2), int64(3), object(1)\n",
            "memory usage: 5.5+ KB\n"
          ]
        },
        {
          "data": {
            "text/plain": [
              "metros       0\n",
              "valor        1\n",
              "quartos      0\n",
              "vagas        0\n",
              "reformado    1\n",
              "bairro       0\n",
              "dtype: int64"
            ]
          },
          "execution_count": 4,
          "metadata": {},
          "output_type": "execute_result"
        }
      ],
      "source": [
        "#Indentifing null values\n",
        "df.info()\n",
        "df.isnull().sum()"
      ]
    },
    {
      "cell_type": "code",
      "execution_count": 5,
      "metadata": {
        "colab": {
          "base_uri": "https://localhost:8080/",
          "height": 300
        },
        "dotnet_interactive": {
          "language": "csharp"
        },
        "id": "v5t_2Sw0gaU2",
        "outputId": "35b3837b-ad4e-42e1-c4eb-a17469607e5d",
        "polyglot_notebook": {
          "kernelName": "csharp"
        }
      },
      "outputs": [
        {
          "data": {
            "text/html": [
              "\n",
              "  <div id=\"df-ee16e3b7-70ce-47d3-b582-54b9dec84335\">\n",
              "    <div class=\"colab-df-container\">\n",
              "      <div>\n",
              "<style scoped>\n",
              "    .dataframe tbody tr th:only-of-type {\n",
              "        vertical-align: middle;\n",
              "    }\n",
              "\n",
              "    .dataframe tbody tr th {\n",
              "        vertical-align: top;\n",
              "    }\n",
              "\n",
              "    .dataframe thead th {\n",
              "        text-align: right;\n",
              "    }\n",
              "</style>\n",
              "<table border=\"1\" class=\"dataframe\">\n",
              "  <thead>\n",
              "    <tr style=\"text-align: right;\">\n",
              "      <th></th>\n",
              "      <th>metros</th>\n",
              "      <th>valor</th>\n",
              "      <th>quartos</th>\n",
              "      <th>vagas</th>\n",
              "      <th>reformado</th>\n",
              "    </tr>\n",
              "  </thead>\n",
              "  <tbody>\n",
              "    <tr>\n",
              "      <th>count</th>\n",
              "      <td>114.000000</td>\n",
              "      <td>113.000000</td>\n",
              "      <td>114.000000</td>\n",
              "      <td>114.000000</td>\n",
              "      <td>113.000000</td>\n",
              "    </tr>\n",
              "    <tr>\n",
              "      <th>mean</th>\n",
              "      <td>79.500000</td>\n",
              "      <td>401.539823</td>\n",
              "      <td>2.543860</td>\n",
              "      <td>1.675439</td>\n",
              "      <td>0.513274</td>\n",
              "    </tr>\n",
              "    <tr>\n",
              "      <th>std</th>\n",
              "      <td>27.516126</td>\n",
              "      <td>171.370059</td>\n",
              "      <td>0.582037</td>\n",
              "      <td>0.722528</td>\n",
              "      <td>0.502050</td>\n",
              "    </tr>\n",
              "    <tr>\n",
              "      <th>min</th>\n",
              "      <td>43.000000</td>\n",
              "      <td>188.000000</td>\n",
              "      <td>1.000000</td>\n",
              "      <td>0.000000</td>\n",
              "      <td>0.000000</td>\n",
              "    </tr>\n",
              "    <tr>\n",
              "      <th>25%</th>\n",
              "      <td>56.000000</td>\n",
              "      <td>255.000000</td>\n",
              "      <td>2.000000</td>\n",
              "      <td>1.000000</td>\n",
              "      <td>0.000000</td>\n",
              "    </tr>\n",
              "    <tr>\n",
              "      <th>50%</th>\n",
              "      <td>71.000000</td>\n",
              "      <td>347.000000</td>\n",
              "      <td>3.000000</td>\n",
              "      <td>2.000000</td>\n",
              "      <td>1.000000</td>\n",
              "    </tr>\n",
              "    <tr>\n",
              "      <th>75%</th>\n",
              "      <td>99.000000</td>\n",
              "      <td>515.000000</td>\n",
              "      <td>3.000000</td>\n",
              "      <td>2.000000</td>\n",
              "      <td>1.000000</td>\n",
              "    </tr>\n",
              "    <tr>\n",
              "      <th>max</th>\n",
              "      <td>199.000000</td>\n",
              "      <td>880.000000</td>\n",
              "      <td>4.000000</td>\n",
              "      <td>4.000000</td>\n",
              "      <td>1.000000</td>\n",
              "    </tr>\n",
              "  </tbody>\n",
              "</table>\n",
              "</div>\n",
              "      <button class=\"colab-df-convert\" onclick=\"convertToInteractive('df-ee16e3b7-70ce-47d3-b582-54b9dec84335')\"\n",
              "              title=\"Convert this dataframe to an interactive table.\"\n",
              "              style=\"display:none;\">\n",
              "        \n",
              "  <svg xmlns=\"http://www.w3.org/2000/svg\" height=\"24px\"viewBox=\"0 0 24 24\"\n",
              "       width=\"24px\">\n",
              "    <path d=\"M0 0h24v24H0V0z\" fill=\"none\"/>\n",
              "    <path d=\"M18.56 5.44l.94 2.06.94-2.06 2.06-.94-2.06-.94-.94-2.06-.94 2.06-2.06.94zm-11 1L8.5 8.5l.94-2.06 2.06-.94-2.06-.94L8.5 2.5l-.94 2.06-2.06.94zm10 10l.94 2.06.94-2.06 2.06-.94-2.06-.94-.94-2.06-.94 2.06-2.06.94z\"/><path d=\"M17.41 7.96l-1.37-1.37c-.4-.4-.92-.59-1.43-.59-.52 0-1.04.2-1.43.59L10.3 9.45l-7.72 7.72c-.78.78-.78 2.05 0 2.83L4 21.41c.39.39.9.59 1.41.59.51 0 1.02-.2 1.41-.59l7.78-7.78 2.81-2.81c.8-.78.8-2.07 0-2.86zM5.41 20L4 18.59l7.72-7.72 1.47 1.35L5.41 20z\"/>\n",
              "  </svg>\n",
              "      </button>\n",
              "      \n",
              "  <style>\n",
              "    .colab-df-container {\n",
              "      display:flex;\n",
              "      flex-wrap:wrap;\n",
              "      gap: 12px;\n",
              "    }\n",
              "\n",
              "    .colab-df-convert {\n",
              "      background-color: #E8F0FE;\n",
              "      border: none;\n",
              "      border-radius: 50%;\n",
              "      cursor: pointer;\n",
              "      display: none;\n",
              "      fill: #1967D2;\n",
              "      height: 32px;\n",
              "      padding: 0 0 0 0;\n",
              "      width: 32px;\n",
              "    }\n",
              "\n",
              "    .colab-df-convert:hover {\n",
              "      background-color: #E2EBFA;\n",
              "      box-shadow: 0px 1px 2px rgba(60, 64, 67, 0.3), 0px 1px 3px 1px rgba(60, 64, 67, 0.15);\n",
              "      fill: #174EA6;\n",
              "    }\n",
              "\n",
              "    [theme=dark] .colab-df-convert {\n",
              "      background-color: #3B4455;\n",
              "      fill: #D2E3FC;\n",
              "    }\n",
              "\n",
              "    [theme=dark] .colab-df-convert:hover {\n",
              "      background-color: #434B5C;\n",
              "      box-shadow: 0px 1px 3px 1px rgba(0, 0, 0, 0.15);\n",
              "      filter: drop-shadow(0px 1px 2px rgba(0, 0, 0, 0.3));\n",
              "      fill: #FFFFFF;\n",
              "    }\n",
              "  </style>\n",
              "\n",
              "      <script>\n",
              "        const buttonEl =\n",
              "          document.querySelector('#df-ee16e3b7-70ce-47d3-b582-54b9dec84335 button.colab-df-convert');\n",
              "        buttonEl.style.display =\n",
              "          google.colab.kernel.accessAllowed ? 'block' : 'none';\n",
              "\n",
              "        async function convertToInteractive(key) {\n",
              "          const element = document.querySelector('#df-ee16e3b7-70ce-47d3-b582-54b9dec84335');\n",
              "          const dataTable =\n",
              "            await google.colab.kernel.invokeFunction('convertToInteractive',\n",
              "                                                     [key], {});\n",
              "          if (!dataTable) return;\n",
              "\n",
              "          const docLinkHtml = 'Like what you see? Visit the ' +\n",
              "            '<a target=\"_blank\" href=https://colab.research.google.com/notebooks/data_table.ipynb>data table notebook</a>'\n",
              "            + ' to learn more about interactive tables.';\n",
              "          element.innerHTML = '';\n",
              "          dataTable['output_type'] = 'display_data';\n",
              "          await google.colab.output.renderOutput(dataTable, element);\n",
              "          const docLink = document.createElement('div');\n",
              "          docLink.innerHTML = docLinkHtml;\n",
              "          element.appendChild(docLink);\n",
              "        }\n",
              "      </script>\n",
              "    </div>\n",
              "  </div>\n",
              "  "
            ],
            "text/plain": [
              "           metros       valor     quartos       vagas   reformado\n",
              "count  114.000000  113.000000  114.000000  114.000000  113.000000\n",
              "mean    79.500000  401.539823    2.543860    1.675439    0.513274\n",
              "std     27.516126  171.370059    0.582037    0.722528    0.502050\n",
              "min     43.000000  188.000000    1.000000    0.000000    0.000000\n",
              "25%     56.000000  255.000000    2.000000    1.000000    0.000000\n",
              "50%     71.000000  347.000000    3.000000    2.000000    1.000000\n",
              "75%     99.000000  515.000000    3.000000    2.000000    1.000000\n",
              "max    199.000000  880.000000    4.000000    4.000000    1.000000"
            ]
          },
          "execution_count": 5,
          "metadata": {},
          "output_type": "execute_result"
        }
      ],
      "source": [
        "df.describe()"
      ]
    },
    {
      "cell_type": "markdown",
      "metadata": {
        "dotnet_interactive": {
          "language": "csharp"
        },
        "id": "_x0O8NMmgaU2",
        "polyglot_notebook": {
          "kernelName": "csharp"
        }
      },
      "source": [
        "### `Question:` Do a breif description of each atributte:\n",
        "\n",
        "Exemple:\n",
        "- Age: Age of the person in years\n",
        "- Brand: Car fabricator\n",
        "- Fuel: Fuel type (gasoline, diesel...)\n",
        "- Species: Type of flower iris-setosa, virginica... (Target Variable)\n",
        "\n",
        "###**Answer:**\n",
        "\n",
        "* Metros: Property size in m²\n",
        "* Valor: Property value (in thousands of R$) (Target Variable)\n",
        "* Quartos: Number of rooms in the property\n",
        "* Vagas: Number of parking spaces in the property\n",
        "* Reformado: If the property has been renovated (0 = no, 1 = yes)\n",
        "* Bairro: Property neighborhood"
      ]
    },
    {
      "cell_type": "markdown",
      "metadata": {
        "dotnet_interactive": {
          "language": "csharp"
        },
        "id": "uwpdaxDxgaU3",
        "polyglot_notebook": {
          "kernelName": "csharp"
        }
      },
      "source": [
        "###Name 2 scenarios that may make sense in reading the data presented.\n",
        "\n",
        "Exemple: \n",
        "- I think the price of gasoline goes up with the price of oil. \n",
        "- I think that on avarage men are taller than women of the same age.\n",
        "\n",
        "###**Answer:**\n",
        "\n",
        "1.  Bigger properties tend to be more expensive.\n",
        "2.  Renovated properties tend to be more expensive."
      ]
    },
    {
      "cell_type": "markdown",
      "metadata": {
        "dotnet_interactive": {
          "language": "csharp"
        },
        "id": "JToSuu1ZgaU3",
        "polyglot_notebook": {
          "kernelName": "csharp"
        }
      },
      "source": [
        "## 2. Descriptive Data Analysis\n",
        "\n",
        "Make an exploratory analysis of the data. Use charts and auxiliary tables, make correlations between the attributes .... With the objective of validating the statements raised above."
      ]
    },
    {
      "cell_type": "code",
      "execution_count": 6,
      "metadata": {
        "colab": {
          "base_uri": "https://localhost:8080/",
          "height": 269
        },
        "dotnet_interactive": {
          "language": "csharp"
        },
        "id": "rCNFZVukgaU3",
        "outputId": "bdc2abd9-77ed-42b0-ca2b-3d3b19d8d98c",
        "polyglot_notebook": {
          "kernelName": "csharp"
        }
      },
      "outputs": [
        {
          "data": {
            "image/png": "[encoded data removed]",
            "text/plain": [
              "<Figure size 432x288 with 2 Axes>"
            ]
          },
          "metadata": {
            "needs_background": "light"
          },
          "output_type": "display_data"
        }
      ],
      "source": [
        "#Case 1: Bigger properties have higher prices\n",
        "\n",
        "sns.heatmap(df.corr(), annot=True)\n",
        "plt.show()"
      ]
    },
    {
      "cell_type": "markdown",
      "metadata": {
        "dotnet_interactive": {
          "language": "csharp"
        },
        "id": "9qXmBRGwgaU3",
        "polyglot_notebook": {
          "kernelName": "csharp"
        }
      },
      "source": [
        "* Case 1: Through the heatmap analysis, it was possible to notice that there is a strong correlation (0.92) between the property size and it's value, being this correlation a directly proportional one. "
      ]
    },
    {
      "cell_type": "code",
      "execution_count": 7,
      "metadata": {
        "colab": {
          "base_uri": "https://localhost:8080/",
          "height": 279
        },
        "dotnet_interactive": {
          "language": "csharp"
        },
        "id": "nrFFwgXggaU3",
        "outputId": "be96650e-ec12-460d-dcac-e198d79012b0",
        "polyglot_notebook": {
          "kernelName": "csharp"
        }
      },
      "outputs": [
        {
          "data": {
            "image/png": "[encoded data removed]",
            "text/plain": [
              "<Figure size 432x288 with 1 Axes>"
            ]
          },
          "metadata": {
            "needs_background": "light"
          },
          "output_type": "display_data"
        }
      ],
      "source": [
        "#Case 2: Renovated properties have higher prices\n",
        "\n",
        "sns.barplot(data=df, x=\"reformado\", y=\"valor\")\n",
        "\n",
        "plt.show()"
      ]
    },
    {
      "cell_type": "markdown",
      "metadata": {
        "dotnet_interactive": {
          "language": "csharp"
        },
        "id": "DtvMIg1egaU3",
        "polyglot_notebook": {
          "kernelName": "csharp"
        }
      },
      "source": [
        "* Case 2: Through the barplot analysis, it's possible to notice 2 possible scenarios:\n",
        "  * There's a weak correlation between the property being renovated and it's value, being this correlation an inversely proportional one (if the property was renovated, it's value tends to be lower).\n",
        "  * There is no correlation between the property being renovated and it's value."
      ]
    },
    {
      "cell_type": "markdown",
      "metadata": {
        "dotnet_interactive": {
          "language": "csharp"
        },
        "id": "kbF4xG48gaU4",
        "polyglot_notebook": {
          "kernelName": "csharp"
        }
      },
      "source": [
        "### __(BONUS: 1 extra  point)__ Outliers Analysis\n",
        "*This is an extra point, do it if you want...\n",
        "\n",
        "Analyze and treat **outliers**, as a reference for study:\n",
        "\n",
        "* [link1](https://machinelearningmastery.com/model-based-outlier-detection-and-removal-in-python/)\n",
        "* [link2](https://towardsdatascience.com/4-machine-learning-techniques-for-outlier-detection-in-python-21e9cfacb81d)\n",
        "* [link3](https://minerandodados.com.br/tratando-outliers-python/)\n",
        "\n",
        "###Were locate outliers? Which analysis method did you use? If there were, how did you treat them (were they removed or kept)?"
      ]
    },
    {
      "cell_type": "code",
      "execution_count": 8,
      "metadata": {
        "colab": {
          "base_uri": "https://localhost:8080/"
        },
        "dotnet_interactive": {
          "language": "csharp"
        },
        "id": "UQmvsRKRgaU4",
        "outputId": "679b13b0-d995-4952-a42f-76c3e24331b7",
        "polyglot_notebook": {
          "kernelName": "csharp"
        }
      },
      "outputs": [
        {
          "name": "stdout",
          "output_type": "stream",
          "text": [
            "<class 'pandas.core.frame.DataFrame'>\n",
            "Int64Index: 112 entries, 0 to 113\n",
            "Data columns (total 6 columns):\n",
            " #   Column     Non-Null Count  Dtype  \n",
            "---  ------     --------------  -----  \n",
            " 0   metros     112 non-null    int64  \n",
            " 1   valor      112 non-null    float64\n",
            " 2   quartos    112 non-null    int64  \n",
            " 3   vagas      112 non-null    int64  \n",
            " 4   reformado  112 non-null    float64\n",
            " 5   bairro     112 non-null    object \n",
            "dtypes: float64(2), int64(3), object(1)\n",
            "memory usage: 6.1+ KB\n"
          ]
        }
      ],
      "source": [
        "#Treatment of null values\n",
        "df_trat=df.dropna()\n",
        "df_trat.info()"
      ]
    },
    {
      "cell_type": "code",
      "execution_count": 9,
      "metadata": {
        "colab": {
          "base_uri": "https://localhost:8080/",
          "height": 751
        },
        "dotnet_interactive": {
          "language": "csharp"
        },
        "id": "UUpCxk0RgaU4",
        "outputId": "ba6453e6-f98c-40ea-d149-ee197813ad98",
        "polyglot_notebook": {
          "kernelName": "csharp"
        }
      },
      "outputs": [
        {
          "data": {
            "image/png": "[encoded data removed]",
            "text/plain": [
              "<Figure size 1440x1440 with 9 Axes>"
            ]
          },
          "metadata": {
            "needs_background": "light"
          },
          "output_type": "display_data"
        }
      ],
      "source": [
        "#Indetifying outliers\n",
        "df_trat.plot(kind='box', subplots=True, layout=(3,3), sharex=False, sharey=False, figsize=(20, 20))\n",
        "plt.show()"
      ]
    },
    {
      "cell_type": "code",
      "execution_count": 10,
      "metadata": {
        "colab": {
          "base_uri": "https://localhost:8080/",
          "height": 879
        },
        "dotnet_interactive": {
          "language": "csharp"
        },
        "id": "Gs_AzYSQgaU4",
        "outputId": "22f8c2bb-fa49-46ff-f1e1-d38d97b38f0a",
        "polyglot_notebook": {
          "kernelName": "csharp"
        }
      },
      "outputs": [
        {
          "data": {
            "image/png": "[encoded data removed]",
            "text/plain": [
              "<Figure size 1080x1080 with 6 Axes>"
            ]
          },
          "metadata": {
            "needs_background": "light"
          },
          "output_type": "display_data"
        }
      ],
      "source": [
        "df_trat.hist(bins=80, figsize=(15, 15))\n",
        "plt.show()"
      ]
    },
    {
      "cell_type": "markdown",
      "metadata": {
        "dotnet_interactive": {
          "language": "csharp"
        },
        "id": "b0Z-09LOgaU4",
        "polyglot_notebook": {
          "kernelName": "csharp"
        }
      },
      "source": [
        "###Answer\n",
        "* Yes, there were outliers in \"quartos\", \"vagas\" and \"valor\";\n",
        "* Were used both boxplot, to identify if there were outliers, as well as histograms, to identify their occurrence;\n",
        "* There was no treatment of the outliers, since they have little representativity."
      ]
    },
    {
      "cell_type": "markdown",
      "metadata": {
        "dotnet_interactive": {
          "language": "csharp"
        },
        "id": "LuRa8eXUgaU4",
        "polyglot_notebook": {
          "kernelName": "csharp"
        }
      },
      "source": [
        "## 3. Model Development"
      ]
    },
    {
      "cell_type": "markdown",
      "metadata": {
        "dotnet_interactive": {
          "language": "csharp"
        },
        "id": "s37yFFezgaU4",
        "polyglot_notebook": {
          "kernelName": "csharp"
        }
      },
      "source": [
        "###The dataset indicates the application of which machine learning model to determine the value of a property? Why?\n",
        "\n",
        "###**Answer:**\n",
        "\n",
        "    [ ] Reinforcement learning\n",
        "    [x] Supervised Learning\n",
        "    [ ] Unsupervised Learning\n",
        "\n",
        "* The supervised model is the most appropriate, since we will inform the parameters that the machine will use to make the prediction."
      ]
    },
    {
      "cell_type": "markdown",
      "metadata": {
        "dotnet_interactive": {
          "language": "csharp"
        },
        "id": "KRYyzD58gaU5",
        "polyglot_notebook": {
          "kernelName": "csharp"
        }
      },
      "source": [
        "###Which technique is suggested for this project?\n",
        "\n",
        "###**Answer:**\n",
        "\n",
        "    [X] Regression\n",
        "    [ ] Classification\n",
        "    [ ] Clustering\n",
        "\n",
        "* The regression technique is the most appropriate, since we want to estimate a numeric value."
      ]
    },
    {
      "cell_type": "markdown",
      "metadata": {
        "dotnet_interactive": {
          "language": "csharp"
        },
        "id": "MLzoO2m9gaU5",
        "polyglot_notebook": {
          "kernelName": "csharp"
        }
      },
      "source": [
        "###Choose 2 algorithms models to test the performance of each one of them.\n",
        "\n",
        "###**Answer:**\n",
        "\n",
        "1. Regression Trees;\n",
        "2. Random Forest Regression."
      ]
    },
    {
      "cell_type": "markdown",
      "metadata": {
        "dotnet_interactive": {
          "language": "csharp"
        },
        "id": "jCfJQsTDgaU5",
        "polyglot_notebook": {
          "kernelName": "csharp"
        }
      },
      "source": [
        "###__(BONUS: 1 extra point.)__ Explain how each algorithm works.\n",
        "\n",
        "###**Answer:**\n",
        "\n",
        "1. This model consists of a decision tree that, in training, observes different characteristics of the items in the DataFrame in order to be able to, in execution, predict the value of the target;\n",
        "\n",
        "2. This model consists of a set of Regression Trees, each one with a different set of characteristics, which, in execution, will predict the value of the target, based on the average of the values predicted by each tree."
      ]
    },
    {
      "cell_type": "markdown",
      "metadata": {
        "dotnet_interactive": {
          "language": "csharp"
        },
        "id": "g52B2HmfgaU5",
        "polyglot_notebook": {
          "kernelName": "csharp"
        }
      },
      "source": [
        "## 4. Train and Test of the Model"
      ]
    },
    {
      "cell_type": "markdown",
      "metadata": {
        "dotnet_interactive": {
          "language": "csharp"
        },
        "id": "H2qJJ9megaU5",
        "polyglot_notebook": {
          "kernelName": "csharp"
        }
      },
      "source": [
        "Create a subset of the data only with the attributes that will be used for training and testing the model. Divide the subset into training and test set."
      ]
    },
    {
      "cell_type": "code",
      "execution_count": 49,
      "metadata": {
        "colab": {
          "base_uri": "https://localhost:8080/",
          "height": 505
        },
        "dotnet_interactive": {
          "language": "csharp"
        },
        "id": "ydTFybC3gaU5",
        "outputId": "9edbeadb-f282-4917-c717-748b32ce25f6",
        "polyglot_notebook": {
          "kernelName": "csharp"
        }
      },
      "outputs": [
        {
          "data": {
            "text/html": [
              "\n",
              "  <div id=\"df-a9b2ed53-c483-4b87-92e6-40c293cf5f44\">\n",
              "    <div class=\"colab-df-container\">\n",
              "      <div>\n",
              "<style scoped>\n",
              "    .dataframe tbody tr th:only-of-type {\n",
              "        vertical-align: middle;\n",
              "    }\n",
              "\n",
              "    .dataframe tbody tr th {\n",
              "        vertical-align: top;\n",
              "    }\n",
              "\n",
              "    .dataframe thead th {\n",
              "        text-align: right;\n",
              "    }\n",
              "</style>\n",
              "<table border=\"1\" class=\"dataframe\">\n",
              "  <thead>\n",
              "    <tr style=\"text-align: right;\">\n",
              "      <th></th>\n",
              "      <th>metros</th>\n",
              "      <th>valor</th>\n",
              "      <th>quartos</th>\n",
              "      <th>vagas</th>\n",
              "      <th>reformado</th>\n",
              "      <th>bairro_Assuncao</th>\n",
              "      <th>bairro_Baeta Neves</th>\n",
              "      <th>bairro_Centro</th>\n",
              "      <th>bairro_Demarchi</th>\n",
              "      <th>bairro_Ferrazopolis</th>\n",
              "      <th>...</th>\n",
              "      <th>bairro_Jardim do Mar</th>\n",
              "      <th>bairro_Jordanopolis</th>\n",
              "      <th>bairro_Nova Petropolis</th>\n",
              "      <th>bairro_Pauliceia</th>\n",
              "      <th>bairro_Piraporinha</th>\n",
              "      <th>bairro_Planalto</th>\n",
              "      <th>bairro_Rudge Ramos</th>\n",
              "      <th>bairro_Santa Teresinha</th>\n",
              "      <th>bairro_Taboao</th>\n",
              "      <th>bairro_Vila Lusitania</th>\n",
              "    </tr>\n",
              "  </thead>\n",
              "  <tbody>\n",
              "    <tr>\n",
              "      <th>0</th>\n",
              "      <td>107</td>\n",
              "      <td>560.0</td>\n",
              "      <td>3</td>\n",
              "      <td>2</td>\n",
              "      <td>0.0</td>\n",
              "      <td>0</td>\n",
              "      <td>0</td>\n",
              "      <td>0</td>\n",
              "      <td>0</td>\n",
              "      <td>0</td>\n",
              "      <td>...</td>\n",
              "      <td>0</td>\n",
              "      <td>0</td>\n",
              "      <td>0</td>\n",
              "      <td>0</td>\n",
              "      <td>0</td>\n",
              "      <td>0</td>\n",
              "      <td>0</td>\n",
              "      <td>0</td>\n",
              "      <td>0</td>\n",
              "      <td>1</td>\n",
              "    </tr>\n",
              "    <tr>\n",
              "      <th>1</th>\n",
              "      <td>107</td>\n",
              "      <td>555.0</td>\n",
              "      <td>3</td>\n",
              "      <td>2</td>\n",
              "      <td>1.0</td>\n",
              "      <td>0</td>\n",
              "      <td>0</td>\n",
              "      <td>0</td>\n",
              "      <td>0</td>\n",
              "      <td>0</td>\n",
              "      <td>...</td>\n",
              "      <td>0</td>\n",
              "      <td>0</td>\n",
              "      <td>0</td>\n",
              "      <td>0</td>\n",
              "      <td>0</td>\n",
              "      <td>0</td>\n",
              "      <td>0</td>\n",
              "      <td>0</td>\n",
              "      <td>0</td>\n",
              "      <td>1</td>\n",
              "    </tr>\n",
              "    <tr>\n",
              "      <th>2</th>\n",
              "      <td>49</td>\n",
              "      <td>196.0</td>\n",
              "      <td>2</td>\n",
              "      <td>1</td>\n",
              "      <td>0.0</td>\n",
              "      <td>0</td>\n",
              "      <td>0</td>\n",
              "      <td>0</td>\n",
              "      <td>0</td>\n",
              "      <td>1</td>\n",
              "      <td>...</td>\n",
              "      <td>0</td>\n",
              "      <td>0</td>\n",
              "      <td>0</td>\n",
              "      <td>0</td>\n",
              "      <td>0</td>\n",
              "      <td>0</td>\n",
              "      <td>0</td>\n",
              "      <td>0</td>\n",
              "      <td>0</td>\n",
              "      <td>0</td>\n",
              "    </tr>\n",
              "    <tr>\n",
              "      <th>3</th>\n",
              "      <td>104</td>\n",
              "      <td>515.0</td>\n",
              "      <td>3</td>\n",
              "      <td>2</td>\n",
              "      <td>1.0</td>\n",
              "      <td>0</td>\n",
              "      <td>0</td>\n",
              "      <td>1</td>\n",
              "      <td>0</td>\n",
              "      <td>0</td>\n",
              "      <td>...</td>\n",
              "      <td>0</td>\n",
              "      <td>0</td>\n",
              "      <td>0</td>\n",
              "      <td>0</td>\n",
              "      <td>0</td>\n",
              "      <td>0</td>\n",
              "      <td>0</td>\n",
              "      <td>0</td>\n",
              "      <td>0</td>\n",
              "      <td>0</td>\n",
              "    </tr>\n",
              "    <tr>\n",
              "      <th>4</th>\n",
              "      <td>92</td>\n",
              "      <td>560.0</td>\n",
              "      <td>3</td>\n",
              "      <td>2</td>\n",
              "      <td>1.0</td>\n",
              "      <td>0</td>\n",
              "      <td>0</td>\n",
              "      <td>0</td>\n",
              "      <td>0</td>\n",
              "      <td>0</td>\n",
              "      <td>...</td>\n",
              "      <td>0</td>\n",
              "      <td>0</td>\n",
              "      <td>0</td>\n",
              "      <td>0</td>\n",
              "      <td>0</td>\n",
              "      <td>0</td>\n",
              "      <td>0</td>\n",
              "      <td>0</td>\n",
              "      <td>0</td>\n",
              "      <td>1</td>\n",
              "    </tr>\n",
              "    <tr>\n",
              "      <th>...</th>\n",
              "      <td>...</td>\n",
              "      <td>...</td>\n",
              "      <td>...</td>\n",
              "      <td>...</td>\n",
              "      <td>...</td>\n",
              "      <td>...</td>\n",
              "      <td>...</td>\n",
              "      <td>...</td>\n",
              "      <td>...</td>\n",
              "      <td>...</td>\n",
              "      <td>...</td>\n",
              "      <td>...</td>\n",
              "      <td>...</td>\n",
              "      <td>...</td>\n",
              "      <td>...</td>\n",
              "      <td>...</td>\n",
              "      <td>...</td>\n",
              "      <td>...</td>\n",
              "      <td>...</td>\n",
              "      <td>...</td>\n",
              "      <td>...</td>\n",
              "    </tr>\n",
              "    <tr>\n",
              "      <th>109</th>\n",
              "      <td>65</td>\n",
              "      <td>340.0</td>\n",
              "      <td>2</td>\n",
              "      <td>2</td>\n",
              "      <td>1.0</td>\n",
              "      <td>0</td>\n",
              "      <td>0</td>\n",
              "      <td>1</td>\n",
              "      <td>0</td>\n",
              "      <td>0</td>\n",
              "      <td>...</td>\n",
              "      <td>0</td>\n",
              "      <td>0</td>\n",
              "      <td>0</td>\n",
              "      <td>0</td>\n",
              "      <td>0</td>\n",
              "      <td>0</td>\n",
              "      <td>0</td>\n",
              "      <td>0</td>\n",
              "      <td>0</td>\n",
              "      <td>0</td>\n",
              "    </tr>\n",
              "    <tr>\n",
              "      <th>110</th>\n",
              "      <td>56</td>\n",
              "      <td>247.0</td>\n",
              "      <td>2</td>\n",
              "      <td>1</td>\n",
              "      <td>0.0</td>\n",
              "      <td>0</td>\n",
              "      <td>0</td>\n",
              "      <td>0</td>\n",
              "      <td>0</td>\n",
              "      <td>0</td>\n",
              "      <td>...</td>\n",
              "      <td>0</td>\n",
              "      <td>0</td>\n",
              "      <td>0</td>\n",
              "      <td>0</td>\n",
              "      <td>0</td>\n",
              "      <td>1</td>\n",
              "      <td>0</td>\n",
              "      <td>0</td>\n",
              "      <td>0</td>\n",
              "      <td>0</td>\n",
              "    </tr>\n",
              "    <tr>\n",
              "      <th>111</th>\n",
              "      <td>126</td>\n",
              "      <td>736.0</td>\n",
              "      <td>3</td>\n",
              "      <td>3</td>\n",
              "      <td>0.0</td>\n",
              "      <td>0</td>\n",
              "      <td>0</td>\n",
              "      <td>0</td>\n",
              "      <td>0</td>\n",
              "      <td>0</td>\n",
              "      <td>...</td>\n",
              "      <td>0</td>\n",
              "      <td>0</td>\n",
              "      <td>0</td>\n",
              "      <td>0</td>\n",
              "      <td>0</td>\n",
              "      <td>0</td>\n",
              "      <td>0</td>\n",
              "      <td>0</td>\n",
              "      <td>0</td>\n",
              "      <td>0</td>\n",
              "    </tr>\n",
              "    <tr>\n",
              "      <th>112</th>\n",
              "      <td>96</td>\n",
              "      <td>560.0</td>\n",
              "      <td>3</td>\n",
              "      <td>1</td>\n",
              "      <td>0.0</td>\n",
              "      <td>0</td>\n",
              "      <td>0</td>\n",
              "      <td>1</td>\n",
              "      <td>0</td>\n",
              "      <td>0</td>\n",
              "      <td>...</td>\n",
              "      <td>0</td>\n",
              "      <td>0</td>\n",
              "      <td>0</td>\n",
              "      <td>0</td>\n",
              "      <td>0</td>\n",
              "      <td>0</td>\n",
              "      <td>0</td>\n",
              "      <td>0</td>\n",
              "      <td>0</td>\n",
              "      <td>0</td>\n",
              "    </tr>\n",
              "    <tr>\n",
              "      <th>113</th>\n",
              "      <td>103</td>\n",
              "      <td>667.0</td>\n",
              "      <td>3</td>\n",
              "      <td>3</td>\n",
              "      <td>0.0</td>\n",
              "      <td>0</td>\n",
              "      <td>1</td>\n",
              "      <td>0</td>\n",
              "      <td>0</td>\n",
              "      <td>0</td>\n",
              "      <td>...</td>\n",
              "      <td>0</td>\n",
              "      <td>0</td>\n",
              "      <td>0</td>\n",
              "      <td>0</td>\n",
              "      <td>0</td>\n",
              "      <td>0</td>\n",
              "      <td>0</td>\n",
              "      <td>0</td>\n",
              "      <td>0</td>\n",
              "      <td>0</td>\n",
              "    </tr>\n",
              "  </tbody>\n",
              "</table>\n",
              "<p>112 rows × 22 columns</p>\n",
              "</div>\n",
              "      <button class=\"colab-df-convert\" onclick=\"convertToInteractive('df-a9b2ed53-c483-4b87-92e6-40c293cf5f44')\"\n",
              "              title=\"Convert this dataframe to an interactive table.\"\n",
              "              style=\"display:none;\">\n",
              "        \n",
              "  <svg xmlns=\"http://www.w3.org/2000/svg\" height=\"24px\"viewBox=\"0 0 24 24\"\n",
              "       width=\"24px\">\n",
              "    <path d=\"M0 0h24v24H0V0z\" fill=\"none\"/>\n",
              "    <path d=\"M18.56 5.44l.94 2.06.94-2.06 2.06-.94-2.06-.94-.94-2.06-.94 2.06-2.06.94zm-11 1L8.5 8.5l.94-2.06 2.06-.94-2.06-.94L8.5 2.5l-.94 2.06-2.06.94zm10 10l.94 2.06.94-2.06 2.06-.94-2.06-.94-.94-2.06-.94 2.06-2.06.94z\"/><path d=\"M17.41 7.96l-1.37-1.37c-.4-.4-.92-.59-1.43-.59-.52 0-1.04.2-1.43.59L10.3 9.45l-7.72 7.72c-.78.78-.78 2.05 0 2.83L4 21.41c.39.39.9.59 1.41.59.51 0 1.02-.2 1.41-.59l7.78-7.78 2.81-2.81c.8-.78.8-2.07 0-2.86zM5.41 20L4 18.59l7.72-7.72 1.47 1.35L5.41 20z\"/>\n",
              "  </svg>\n",
              "      </button>\n",
              "      \n",
              "  <style>\n",
              "    .colab-df-container {\n",
              "      display:flex;\n",
              "      flex-wrap:wrap;\n",
              "      gap: 12px;\n",
              "    }\n",
              "\n",
              "    .colab-df-convert {\n",
              "      background-color: #E8F0FE;\n",
              "      border: none;\n",
              "      border-radius: 50%;\n",
              "      cursor: pointer;\n",
              "      display: none;\n",
              "      fill: #1967D2;\n",
              "      height: 32px;\n",
              "      padding: 0 0 0 0;\n",
              "      width: 32px;\n",
              "    }\n",
              "\n",
              "    .colab-df-convert:hover {\n",
              "      background-color: #E2EBFA;\n",
              "      box-shadow: 0px 1px 2px rgba(60, 64, 67, 0.3), 0px 1px 3px 1px rgba(60, 64, 67, 0.15);\n",
              "      fill: #174EA6;\n",
              "    }\n",
              "\n",
              "    [theme=dark] .colab-df-convert {\n",
              "      background-color: #3B4455;\n",
              "      fill: #D2E3FC;\n",
              "    }\n",
              "\n",
              "    [theme=dark] .colab-df-convert:hover {\n",
              "      background-color: #434B5C;\n",
              "      box-shadow: 0px 1px 3px 1px rgba(0, 0, 0, 0.15);\n",
              "      filter: drop-shadow(0px 1px 2px rgba(0, 0, 0, 0.3));\n",
              "      fill: #FFFFFF;\n",
              "    }\n",
              "  </style>\n",
              "\n",
              "      <script>\n",
              "        const buttonEl =\n",
              "          document.querySelector('#df-a9b2ed53-c483-4b87-92e6-40c293cf5f44 button.colab-df-convert');\n",
              "        buttonEl.style.display =\n",
              "          google.colab.kernel.accessAllowed ? 'block' : 'none';\n",
              "\n",
              "        async function convertToInteractive(key) {\n",
              "          const element = document.querySelector('#df-a9b2ed53-c483-4b87-92e6-40c293cf5f44');\n",
              "          const dataTable =\n",
              "            await google.colab.kernel.invokeFunction('convertToInteractive',\n",
              "                                                     [key], {});\n",
              "          if (!dataTable) return;\n",
              "\n",
              "          const docLinkHtml = 'Like what you see? Visit the ' +\n",
              "            '<a target=\"_blank\" href=https://colab.research.google.com/notebooks/data_table.ipynb>data table notebook</a>'\n",
              "            + ' to learn more about interactive tables.';\n",
              "          element.innerHTML = '';\n",
              "          dataTable['output_type'] = 'display_data';\n",
              "          await google.colab.output.renderOutput(dataTable, element);\n",
              "          const docLink = document.createElement('div');\n",
              "          docLink.innerHTML = docLinkHtml;\n",
              "          element.appendChild(docLink);\n",
              "        }\n",
              "      </script>\n",
              "    </div>\n",
              "  </div>\n",
              "  "
            ],
            "text/plain": [
              "     metros  valor  quartos  vagas  reformado  bairro_Assuncao  \\\n",
              "0       107  560.0        3      2        0.0                0   \n",
              "1       107  555.0        3      2        1.0                0   \n",
              "2        49  196.0        2      1        0.0                0   \n",
              "3       104  515.0        3      2        1.0                0   \n",
              "4        92  560.0        3      2        1.0                0   \n",
              "..      ...    ...      ...    ...        ...              ...   \n",
              "109      65  340.0        2      2        1.0                0   \n",
              "110      56  247.0        2      1        0.0                0   \n",
              "111     126  736.0        3      3        0.0                0   \n",
              "112      96  560.0        3      1        0.0                0   \n",
              "113     103  667.0        3      3        0.0                0   \n",
              "\n",
              "     bairro_Baeta Neves  bairro_Centro  bairro_Demarchi  bairro_Ferrazopolis  \\\n",
              "0                     0              0                0                    0   \n",
              "1                     0              0                0                    0   \n",
              "2                     0              0                0                    1   \n",
              "3                     0              1                0                    0   \n",
              "4                     0              0                0                    0   \n",
              "..                  ...            ...              ...                  ...   \n",
              "109                   0              1                0                    0   \n",
              "110                   0              0                0                    0   \n",
              "111                   0              0                0                    0   \n",
              "112                   0              1                0                    0   \n",
              "113                   1              0                0                    0   \n",
              "\n",
              "     ...  bairro_Jardim do Mar  bairro_Jordanopolis  bairro_Nova Petropolis  \\\n",
              "0    ...                     0                    0                       0   \n",
              "1    ...                     0                    0                       0   \n",
              "2    ...                     0                    0                       0   \n",
              "3    ...                     0                    0                       0   \n",
              "4    ...                     0                    0                       0   \n",
              "..   ...                   ...                  ...                     ...   \n",
              "109  ...                     0                    0                       0   \n",
              "110  ...                     0                    0                       0   \n",
              "111  ...                     0                    0                       0   \n",
              "112  ...                     0                    0                       0   \n",
              "113  ...                     0                    0                       0   \n",
              "\n",
              "     bairro_Pauliceia  bairro_Piraporinha  bairro_Planalto  \\\n",
              "0                   0                   0                0   \n",
              "1                   0                   0                0   \n",
              "2                   0                   0                0   \n",
              "3                   0                   0                0   \n",
              "4                   0                   0                0   \n",
              "..                ...                 ...              ...   \n",
              "109                 0                   0                0   \n",
              "110                 0                   0                1   \n",
              "111                 0                   0                0   \n",
              "112                 0                   0                0   \n",
              "113                 0                   0                0   \n",
              "\n",
              "     bairro_Rudge Ramos  bairro_Santa Teresinha  bairro_Taboao  \\\n",
              "0                     0                       0              0   \n",
              "1                     0                       0              0   \n",
              "2                     0                       0              0   \n",
              "3                     0                       0              0   \n",
              "4                     0                       0              0   \n",
              "..                  ...                     ...            ...   \n",
              "109                   0                       0              0   \n",
              "110                   0                       0              0   \n",
              "111                   0                       0              0   \n",
              "112                   0                       0              0   \n",
              "113                   0                       0              0   \n",
              "\n",
              "     bairro_Vila Lusitania  \n",
              "0                        1  \n",
              "1                        1  \n",
              "2                        0  \n",
              "3                        0  \n",
              "4                        1  \n",
              "..                     ...  \n",
              "109                      0  \n",
              "110                      0  \n",
              "111                      0  \n",
              "112                      0  \n",
              "113                      0  \n",
              "\n",
              "[112 rows x 22 columns]"
            ]
          },
          "execution_count": 49,
          "metadata": {},
          "output_type": "execute_result"
        }
      ],
      "source": [
        "df_treino_teste=pd.get_dummies(df_trat,columns=[\"bairro\"])\n",
        "df_treino_teste"
      ]
    },
    {
      "cell_type": "code",
      "execution_count": 50,
      "metadata": {
        "dotnet_interactive": {
          "language": "csharp"
        },
        "id": "JSikWgpigaU5",
        "polyglot_notebook": {
          "kernelName": "csharp"
        }
      },
      "outputs": [],
      "source": [
        "x = df_treino_teste.drop(\"valor\",axis = 1)\n",
        "y = df_treino_teste.valor"
      ]
    },
    {
      "cell_type": "code",
      "execution_count": 51,
      "metadata": {
        "dotnet_interactive": {
          "language": "csharp"
        },
        "id": "QZLm0IvqgaU5",
        "polyglot_notebook": {
          "kernelName": "csharp"
        }
      },
      "outputs": [],
      "source": [
        "#Splitting the dataset into training and test\n",
        "from sklearn.model_selection import train_test_split\n",
        "x_treino, x_teste, y_treino, y_teste = train_test_split(x,y,test_size=0.2, random_state=42)"
      ]
    },
    {
      "cell_type": "markdown",
      "metadata": {
        "dotnet_interactive": {
          "language": "csharp"
        },
        "id": "h_U9qplCgaU6",
        "polyglot_notebook": {
          "kernelName": "csharp"
        }
      },
      "source": [
        "Train and test the 2 chosen algorithms. Use a metric (ex. R2-score, RMSE and MAE...) to evaluate the performance of the models."
      ]
    },
    {
      "cell_type": "markdown",
      "metadata": {
        "dotnet_interactive": {
          "language": "csharp"
        },
        "id": "28kRHN9ZgaU6",
        "polyglot_notebook": {
          "kernelName": "csharp"
        }
      },
      "source": [
        "### Algorithm 1 -> Regression Decision Tree"
      ]
    },
    {
      "cell_type": "code",
      "execution_count": 164,
      "metadata": {
        "dotnet_interactive": {
          "language": "csharp"
        },
        "id": "4BJgd7YrgaU6",
        "polyglot_notebook": {
          "kernelName": "csharp"
        }
      },
      "outputs": [],
      "source": [
        "#Importing\n",
        "from sklearn.tree import DecisionTreeRegressor\n",
        "from sklearn.metrics import r2_score, mean_squared_error,mean_absolute_error\n",
        "\n",
        "dtr = DecisionTreeRegressor()"
      ]
    },
    {
      "cell_type": "code",
      "execution_count": 165,
      "metadata": {
        "colab": {
          "base_uri": "https://localhost:8080/",
          "height": 75
        },
        "dotnet_interactive": {
          "language": "csharp"
        },
        "id": "UomUsFtVgaU6",
        "outputId": "6c341cb9-6c5b-4433-ce0e-e110405980aa",
        "polyglot_notebook": {
          "kernelName": "csharp"
        }
      },
      "outputs": [
        {
          "data": {
            "text/html": [
              "<style>#sk-container-id-19 {color: black;background-color: white;}#sk-container-id-19 pre{padding: 0;}#sk-container-id-19 div.sk-toggleable {background-color: white;}#sk-container-id-19 label.sk-toggleable__label {cursor: pointer;display: block;width: 100%;margin-bottom: 0;padding: 0.3em;box-sizing: border-box;text-align: center;}#sk-container-id-19 label.sk-toggleable__label-arrow:before {content: \"▸\";float: left;margin-right: 0.25em;color: #696969;}#sk-container-id-19 label.sk-toggleable__label-arrow:hover:before {color: black;}#sk-container-id-19 div.sk-estimator:hover label.sk-toggleable__label-arrow:before {color: black;}#sk-container-id-19 div.sk-toggleable__content {max-height: 0;max-width: 0;overflow: hidden;text-align: left;background-color: #f0f8ff;}#sk-container-id-19 div.sk-toggleable__content pre {margin: 0.2em;color: black;border-radius: 0.25em;background-color: #f0f8ff;}#sk-container-id-19 input.sk-toggleable__control:checked~div.sk-toggleable__content {max-height: 200px;max-width: 100%;overflow: auto;}#sk-container-id-19 input.sk-toggleable__control:checked~label.sk-toggleable__label-arrow:before {content: \"▾\";}#sk-container-id-19 div.sk-estimator input.sk-toggleable__control:checked~label.sk-toggleable__label {background-color: #d4ebff;}#sk-container-id-19 div.sk-label input.sk-toggleable__control:checked~label.sk-toggleable__label {background-color: #d4ebff;}#sk-container-id-19 input.sk-hidden--visually {border: 0;clip: rect(1px 1px 1px 1px);clip: rect(1px, 1px, 1px, 1px);height: 1px;margin: -1px;overflow: hidden;padding: 0;position: absolute;width: 1px;}#sk-container-id-19 div.sk-estimator {font-family: monospace;background-color: #f0f8ff;border: 1px dotted black;border-radius: 0.25em;box-sizing: border-box;margin-bottom: 0.5em;}#sk-container-id-19 div.sk-estimator:hover {background-color: #d4ebff;}#sk-container-id-19 div.sk-parallel-item::after {content: \"\";width: 100%;border-bottom: 1px solid gray;flex-grow: 1;}#sk-container-id-19 div.sk-label:hover label.sk-toggleable__label {background-color: #d4ebff;}#sk-container-id-19 div.sk-serial::before {content: \"\";position: absolute;border-left: 1px solid gray;box-sizing: border-box;top: 0;bottom: 0;left: 50%;z-index: 0;}#sk-container-id-19 div.sk-serial {display: flex;flex-direction: column;align-items: center;background-color: white;padding-right: 0.2em;padding-left: 0.2em;position: relative;}#sk-container-id-19 div.sk-item {position: relative;z-index: 1;}#sk-container-id-19 div.sk-parallel {display: flex;align-items: stretch;justify-content: center;background-color: white;position: relative;}#sk-container-id-19 div.sk-item::before, #sk-container-id-19 div.sk-parallel-item::before {content: \"\";position: absolute;border-left: 1px solid gray;box-sizing: border-box;top: 0;bottom: 0;left: 50%;z-index: -1;}#sk-container-id-19 div.sk-parallel-item {display: flex;flex-direction: column;z-index: 1;position: relative;background-color: white;}#sk-container-id-19 div.sk-parallel-item:first-child::after {align-self: flex-end;width: 50%;}#sk-container-id-19 div.sk-parallel-item:last-child::after {align-self: flex-start;width: 50%;}#sk-container-id-19 div.sk-parallel-item:only-child::after {width: 0;}#sk-container-id-19 div.sk-dashed-wrapped {border: 1px dashed gray;margin: 0 0.4em 0.5em 0.4em;box-sizing: border-box;padding-bottom: 0.4em;background-color: white;}#sk-container-id-19 div.sk-label label {font-family: monospace;font-weight: bold;display: inline-block;line-height: 1.2em;}#sk-container-id-19 div.sk-label-container {text-align: center;}#sk-container-id-19 div.sk-container {/* jupyter's `normalize.less` sets `[hidden] { display: none; }` but bootstrap.min.css set `[hidden] { display: none !important; }` so we also need the `!important` here to be able to override the default hidden behavior on the sphinx rendered scikit-learn.org. See: https://github.com/scikit-learn/scikit-learn/issues/21755 */display: inline-block !important;position: relative;}#sk-container-id-19 div.sk-text-repr-fallback {display: none;}</style><div id=\"sk-container-id-19\" class=\"sk-top-container\"><div class=\"sk-text-repr-fallback\"><pre>DecisionTreeRegressor()</pre><b>In a Jupyter environment, please rerun this cell to show the HTML representation or trust the notebook. <br />On GitHub, the HTML representation is unable to render, please try loading this page with nbviewer.org.</b></div><div class=\"sk-container\" hidden><div class=\"sk-item\"><div class=\"sk-estimator sk-toggleable\"><input class=\"sk-toggleable__control sk-hidden--visually\" id=\"sk-estimator-id-19\" type=\"checkbox\" checked><label for=\"sk-estimator-id-19\" class=\"sk-toggleable__label sk-toggleable__label-arrow\">DecisionTreeRegressor</label><div class=\"sk-toggleable__content\"><pre>DecisionTreeRegressor()</pre></div></div></div></div></div>"
            ],
            "text/plain": [
              "DecisionTreeRegressor()"
            ]
          },
          "execution_count": 165,
          "metadata": {},
          "output_type": "execute_result"
        }
      ],
      "source": [
        "#Fitting the data\n",
        "dtr.fit(x_treino, y_treino)"
      ]
    },
    {
      "cell_type": "code",
      "execution_count": 166,
      "metadata": {
        "colab": {
          "base_uri": "https://localhost:8080/"
        },
        "dotnet_interactive": {
          "language": "csharp"
        },
        "id": "P66_MWizgaU6",
        "outputId": "8498f558-902b-4174-d0c5-317cdceda4cf",
        "polyglot_notebook": {
          "kernelName": "csharp"
        }
      },
      "outputs": [
        {
          "name": "stdout",
          "output_type": "stream",
          "text": [
            "Prediction using regression, returns continuos values: [250.         245.         807.5        270.         322.\n",
            " 460.         319.         300.         798.         255.\n",
            " 425.         341.33333333 277.         215.         280.\n",
            " 247.         249.         340.         250.         580.\n",
            " 450.         710.         565.         220.         560.\n",
            " 199.         341.33333333 302.         659.         306.\n",
            " 456.75       280.         367.         330.         456.75\n",
            " 272.         341.33333333 303.         340.         495.\n",
            " 515.         247.5        880.         220.         635.\n",
            " 365.         480.         565.         509.         347.\n",
            " 227.         303.         456.75       602.5        247.\n",
            " 736.         580.         300.         515.         215.\n",
            " 199.         210.         390.         250.         460.\n",
            " 245.         520.         750.         807.5        422.\n",
            " 602.5        525.         485.         196.         485.\n",
            " 195.         200.         217.         307.         456.75\n",
            " 667.         545.         330.         247.5        359.\n",
            " 294.         570.         360.         200.        ]\n"
          ]
        }
      ],
      "source": [
        "#Using the predict method in training data\n",
        "\n",
        "y_teste_predito_forest = dtr.predict(x_treino)\n",
        "print(\"Prediction using regression, returns continuos values: {}\".format(y_teste_predito_forest))"
      ]
    },
    {
      "cell_type": "code",
      "execution_count": 167,
      "metadata": {
        "colab": {
          "base_uri": "https://localhost:8080/",
          "height": 279
        },
        "dotnet_interactive": {
          "language": "csharp"
        },
        "id": "ApwwsNdzgaU6",
        "outputId": "60192cd4-36ee-41a9-9615-6c1829075054",
        "polyglot_notebook": {
          "kernelName": "csharp"
        }
      },
      "outputs": [
        {
          "data": {
            "image/png": "[encoded data removed]",
            "text/plain": [
              "<Figure size 432x288 with 1 Axes>"
            ]
          },
          "metadata": {
            "needs_background": "light"
          },
          "output_type": "display_data"
        }
      ],
      "source": [
        "#Evaluation of the parameters in training data\n",
        "\n",
        "plt.scatter(y_treino, y_teste_predito_forest)\n",
        "plt.xlabel('True Value')\n",
        "plt.ylabel('Predicted Value')\n",
        "plt.show()"
      ]
    },
    {
      "cell_type": "code",
      "execution_count": 168,
      "metadata": {
        "colab": {
          "base_uri": "https://localhost:8080/"
        },
        "dotnet_interactive": {
          "language": "csharp"
        },
        "id": "d90tIGIIgaU6",
        "outputId": "c49196bf-fa49-42ef-fe5c-79a4616582a6",
        "polyglot_notebook": {
          "kernelName": "csharp"
        }
      },
      "outputs": [
        {
          "name": "stdout",
          "output_type": "stream",
          "text": [
            "Sum of Squared Errors (SSE): 13746.92\n",
            "Mean Squared Error (MSE): 154.46\n",
            "Mean Absolut Error (MAE): 4.13\n",
            "Root Mean Squared Error (RMSE): 12.43\n",
            "R2-score: 99.47%\n"
          ]
        }
      ],
      "source": [
        "#Analysing the results in training data\n",
        "\n",
        "sse = np.sum((y_teste_predito_forest - y_treino)**2)\n",
        "mse = mean_squared_error(y_treino, y_teste_predito_forest)\n",
        "mae = mean_absolute_error(y_treino, y_teste_predito_forest)\n",
        "rmse = np.sqrt(mean_squared_error(y_treino, y_teste_predito_forest))\n",
        "r2 = r2_score(y_teste_predito_forest, y_treino)\n",
        "\n",
        "print(f\"Sum of Squared Errors (SSE): {sse:.2f}\")\n",
        "print(f\"Mean Squared Error (MSE): {mse:.2f}\")\n",
        "print(f\"Mean Absolut Error (MAE): {mae:.2f}\")\n",
        "print(f\"Root Mean Squared Error (RMSE): {rmse:.2f}\")\n",
        "print(f\"R2-score: {r2:.2%}\")"
      ]
    },
    {
      "cell_type": "code",
      "execution_count": 169,
      "metadata": {
        "colab": {
          "base_uri": "https://localhost:8080/"
        },
        "dotnet_interactive": {
          "language": "csharp"
        },
        "id": "8W9zhV_-gaU6",
        "outputId": "23e8e0da-ab14-4059-fd1f-be8a79da6159",
        "polyglot_notebook": {
          "kernelName": "csharp"
        }
      },
      "outputs": [
        {
          "name": "stdout",
          "output_type": "stream",
          "text": [
            "Prediction using regression, returns continuous values [565.   220.   545.   456.75 307.   347.   515.   307.   422.   247.\n",
            " 220.   495.   196.   710.   525.   485.   456.75 710.   250.   736.\n",
            " 255.   340.   390.  ]\n"
          ]
        }
      ],
      "source": [
        "#Using the predict method in test data\n",
        "\n",
        "y_teste_predito = dtr.predict(x_teste)\n",
        "print(\"Prediction using regression, returns continuous values {}\".format(y_teste_predito))"
      ]
    },
    {
      "cell_type": "code",
      "execution_count": 170,
      "metadata": {
        "colab": {
          "base_uri": "https://localhost:8080/",
          "height": 279
        },
        "dotnet_interactive": {
          "language": "csharp"
        },
        "id": "RPVEM3kXgaU7",
        "outputId": "8f1965a9-9ea4-475e-cdbb-3cf05d95664c",
        "polyglot_notebook": {
          "kernelName": "csharp"
        }
      },
      "outputs": [
        {
          "data": {
            "image/png": "[encoded data removed]",
            "text/plain": [
              "<Figure size 432x288 with 1 Axes>"
            ]
          },
          "metadata": {
            "needs_background": "light"
          },
          "output_type": "display_data"
        }
      ],
      "source": [
        "#Evaluation of the parameters in test data\n",
        "\n",
        "plt.scatter(y_teste, y_teste_predito)\n",
        "plt.xlabel('True Value')\n",
        "plt.ylabel('Predicted Value')\n",
        "plt.show()"
      ]
    },
    {
      "cell_type": "code",
      "execution_count": 171,
      "metadata": {
        "colab": {
          "base_uri": "https://localhost:8080/"
        },
        "dotnet_interactive": {
          "language": "csharp"
        },
        "id": "bv8cpOpZgaU7",
        "outputId": "6fb45ae8-6e0c-4845-83e4-928b22d1d16b",
        "polyglot_notebook": {
          "kernelName": "csharp"
        }
      },
      "outputs": [
        {
          "name": "stdout",
          "output_type": "stream",
          "text": [
            "Sum of Squared Errors (SSE): 120194.12\n",
            "Mean Squared Error (MSE): 5225.83\n",
            "Mean Absolut Error (MAE): 50.13\n",
            "Root Mean Squared Error (RMSE): 72.29\n",
            "R2-score: 79.68%\n"
          ]
        }
      ],
      "source": [
        "#Analysing the results in test data\n",
        "\n",
        "sse = np.sum((y_teste_predito - y_teste)**2)\n",
        "mse = mean_squared_error(y_teste, y_teste_predito)\n",
        "mae = mean_absolute_error(y_teste, y_teste_predito)\n",
        "rmse = np.sqrt(mean_squared_error(y_teste, y_teste_predito))\n",
        "r2 = r2_score(y_teste_predito, y_teste)\n",
        "\n",
        "print(f\"Sum of Squared Errors (SSE): {sse:.2f}\")\n",
        "print(f\"Mean Squared Error (MSE): {mse:.2f}\")\n",
        "print(f\"Mean Absolut Error (MAE): {mae:.2f}\")\n",
        "print(f\"Root Mean Squared Error (RMSE): {rmse:.2f}\")\n",
        "print(f\"R2-score: {r2:.2%}\")"
      ]
    },
    {
      "cell_type": "markdown",
      "metadata": {
        "dotnet_interactive": {
          "language": "csharp"
        },
        "id": "wPYwkLgtgaU7",
        "polyglot_notebook": {
          "kernelName": "csharp"
        }
      },
      "source": [
        "### Algorithm 2 -> Random Forest Regression"
      ]
    },
    {
      "cell_type": "code",
      "execution_count": 84,
      "metadata": {
        "dotnet_interactive": {
          "language": "csharp"
        },
        "id": "r4aSp7PCgaU7",
        "polyglot_notebook": {
          "kernelName": "csharp"
        }
      },
      "outputs": [],
      "source": [
        "#Importing\n",
        "from sklearn.ensemble import RandomForestRegressor\n",
        "\n",
        "rfr = RandomForestRegressor()"
      ]
    },
    {
      "cell_type": "code",
      "execution_count": 85,
      "metadata": {
        "colab": {
          "base_uri": "https://localhost:8080/",
          "height": 75
        },
        "dotnet_interactive": {
          "language": "csharp"
        },
        "id": "mmwqe2T6gaU7",
        "outputId": "e43271e8-9a3c-4bc3-98b7-6715dd264d0a",
        "polyglot_notebook": {
          "kernelName": "csharp"
        }
      },
      "outputs": [
        {
          "data": {
            "text/html": [
              "<style>#sk-container-id-9 {color: black;background-color: white;}#sk-container-id-9 pre{padding: 0;}#sk-container-id-9 div.sk-toggleable {background-color: white;}#sk-container-id-9 label.sk-toggleable__label {cursor: pointer;display: block;width: 100%;margin-bottom: 0;padding: 0.3em;box-sizing: border-box;text-align: center;}#sk-container-id-9 label.sk-toggleable__label-arrow:before {content: \"▸\";float: left;margin-right: 0.25em;color: #696969;}#sk-container-id-9 label.sk-toggleable__label-arrow:hover:before {color: black;}#sk-container-id-9 div.sk-estimator:hover label.sk-toggleable__label-arrow:before {color: black;}#sk-container-id-9 div.sk-toggleable__content {max-height: 0;max-width: 0;overflow: hidden;text-align: left;background-color: #f0f8ff;}#sk-container-id-9 div.sk-toggleable__content pre {margin: 0.2em;color: black;border-radius: 0.25em;background-color: #f0f8ff;}#sk-container-id-9 input.sk-toggleable__control:checked~div.sk-toggleable__content {max-height: 200px;max-width: 100%;overflow: auto;}#sk-container-id-9 input.sk-toggleable__control:checked~label.sk-toggleable__label-arrow:before {content: \"▾\";}#sk-container-id-9 div.sk-estimator input.sk-toggleable__control:checked~label.sk-toggleable__label {background-color: #d4ebff;}#sk-container-id-9 div.sk-label input.sk-toggleable__control:checked~label.sk-toggleable__label {background-color: #d4ebff;}#sk-container-id-9 input.sk-hidden--visually {border: 0;clip: rect(1px 1px 1px 1px);clip: rect(1px, 1px, 1px, 1px);height: 1px;margin: -1px;overflow: hidden;padding: 0;position: absolute;width: 1px;}#sk-container-id-9 div.sk-estimator {font-family: monospace;background-color: #f0f8ff;border: 1px dotted black;border-radius: 0.25em;box-sizing: border-box;margin-bottom: 0.5em;}#sk-container-id-9 div.sk-estimator:hover {background-color: #d4ebff;}#sk-container-id-9 div.sk-parallel-item::after {content: \"\";width: 100%;border-bottom: 1px solid gray;flex-grow: 1;}#sk-container-id-9 div.sk-label:hover label.sk-toggleable__label {background-color: #d4ebff;}#sk-container-id-9 div.sk-serial::before {content: \"\";position: absolute;border-left: 1px solid gray;box-sizing: border-box;top: 0;bottom: 0;left: 50%;z-index: 0;}#sk-container-id-9 div.sk-serial {display: flex;flex-direction: column;align-items: center;background-color: white;padding-right: 0.2em;padding-left: 0.2em;position: relative;}#sk-container-id-9 div.sk-item {position: relative;z-index: 1;}#sk-container-id-9 div.sk-parallel {display: flex;align-items: stretch;justify-content: center;background-color: white;position: relative;}#sk-container-id-9 div.sk-item::before, #sk-container-id-9 div.sk-parallel-item::before {content: \"\";position: absolute;border-left: 1px solid gray;box-sizing: border-box;top: 0;bottom: 0;left: 50%;z-index: -1;}#sk-container-id-9 div.sk-parallel-item {display: flex;flex-direction: column;z-index: 1;position: relative;background-color: white;}#sk-container-id-9 div.sk-parallel-item:first-child::after {align-self: flex-end;width: 50%;}#sk-container-id-9 div.sk-parallel-item:last-child::after {align-self: flex-start;width: 50%;}#sk-container-id-9 div.sk-parallel-item:only-child::after {width: 0;}#sk-container-id-9 div.sk-dashed-wrapped {border: 1px dashed gray;margin: 0 0.4em 0.5em 0.4em;box-sizing: border-box;padding-bottom: 0.4em;background-color: white;}#sk-container-id-9 div.sk-label label {font-family: monospace;font-weight: bold;display: inline-block;line-height: 1.2em;}#sk-container-id-9 div.sk-label-container {text-align: center;}#sk-container-id-9 div.sk-container {/* jupyter's `normalize.less` sets `[hidden] { display: none; }` but bootstrap.min.css set `[hidden] { display: none !important; }` so we also need the `!important` here to be able to override the default hidden behavior on the sphinx rendered scikit-learn.org. See: https://github.com/scikit-learn/scikit-learn/issues/21755 */display: inline-block !important;position: relative;}#sk-container-id-9 div.sk-text-repr-fallback {display: none;}</style><div id=\"sk-container-id-9\" class=\"sk-top-container\"><div class=\"sk-text-repr-fallback\"><pre>RandomForestRegressor()</pre><b>In a Jupyter environment, please rerun this cell to show the HTML representation or trust the notebook. <br />On GitHub, the HTML representation is unable to render, please try loading this page with nbviewer.org.</b></div><div class=\"sk-container\" hidden><div class=\"sk-item\"><div class=\"sk-estimator sk-toggleable\"><input class=\"sk-toggleable__control sk-hidden--visually\" id=\"sk-estimator-id-9\" type=\"checkbox\" checked><label for=\"sk-estimator-id-9\" class=\"sk-toggleable__label sk-toggleable__label-arrow\">RandomForestRegressor</label><div class=\"sk-toggleable__content\"><pre>RandomForestRegressor()</pre></div></div></div></div></div>"
            ],
            "text/plain": [
              "RandomForestRegressor()"
            ]
          },
          "execution_count": 85,
          "metadata": {},
          "output_type": "execute_result"
        }
      ],
      "source": [
        "#Fitting the data\n",
        "rfr.fit(x_treino, y_treino)"
      ]
    },
    {
      "cell_type": "code",
      "execution_count": 86,
      "metadata": {
        "colab": {
          "base_uri": "https://localhost:8080/"
        },
        "dotnet_interactive": {
          "language": "csharp"
        },
        "id": "e_ceBAbogaU7",
        "outputId": "16395af9-166e-4c96-851b-1b27c308fc5d",
        "polyglot_notebook": {
          "kernelName": "csharp"
        }
      },
      "outputs": [
        {
          "name": "stdout",
          "output_type": "stream",
          "text": [
            "Prediction using regression, returns continuous values: [241.645      236.14133333 801.565      291.16733333 309.795\n",
            " 486.785      313.32       261.4        736.97       246.85666667\n",
            " 504.63333333 336.86185714 266.05666667 230.29       269.66\n",
            " 247.06666667 250.608      332.64333333 270.61       551.23\n",
            " 518.6975     660.12916667 470.80352381 242.31       530.565\n",
            " 203.44233333 336.86185714 267.96       584.195      312.63\n",
            " 457.5090119  270.26       341.67       318.435      457.5090119\n",
            " 255.618      336.86185714 306.38       336.07       515.89\n",
            " 569.725      254.90125    845.46083333 231.78       683.82833333\n",
            " 376.56666667 500.37       543.53583333 522.12       397.53\n",
            " 229.00766667 306.38       457.5090119  596.68       247.06666667\n",
            " 710.76333333 559.46       307.45       534.4875     231.37\n",
            " 203.44233333 216.26166667 390.68       238.21666667 466.80475\n",
            " 239.03666667 503.225      688.53166667 801.565      455.644\n",
            " 596.68       571.355      471.73       206.88       463.91\n",
            " 206.025      213.02       214.65       310.63       457.5090119\n",
            " 604.198      521.6345     332.931      254.90125    381.45333333\n",
            " 300.76       515.42125    317.45       220.83      ]\n"
          ]
        }
      ],
      "source": [
        "#Using the predict method in training data\n",
        "y_teste_predito_forest = rfr.predict(x_treino)\n",
        "print(\"Prediction using regression, returns continuous values: {}\".format(y_teste_predito_forest))"
      ]
    },
    {
      "cell_type": "code",
      "execution_count": 87,
      "metadata": {
        "colab": {
          "base_uri": "https://localhost:8080/",
          "height": 279
        },
        "dotnet_interactive": {
          "language": "csharp"
        },
        "id": "bRDgNHJbgaU7",
        "outputId": "905ad421-5dbe-4efa-ee92-2dcba12bc096",
        "polyglot_notebook": {
          "kernelName": "csharp"
        }
      },
      "outputs": [
        {
          "data": {
            "image/png": "[encoded data removed]",
            "text/plain": [
              "<Figure size 432x288 with 1 Axes>"
            ]
          },
          "metadata": {
            "needs_background": "light"
          },
          "output_type": "display_data"
        }
      ],
      "source": [
        "#Evaluation of the parameters in training data\n",
        "\n",
        "plt.scatter(y_treino, y_teste_predito_forest)\n",
        "plt.xlabel('True value')\n",
        "plt.ylabel('Predicted value')\n",
        "plt.show()"
      ]
    },
    {
      "cell_type": "code",
      "execution_count": 88,
      "metadata": {
        "colab": {
          "base_uri": "https://localhost:8080/"
        },
        "dotnet_interactive": {
          "language": "csharp"
        },
        "id": "Z4Dml-SVgaU7",
        "outputId": "f5fb5844-2e7c-47b9-8c0a-fdfa3e72e749",
        "polyglot_notebook": {
          "kernelName": "csharp"
        }
      },
      "outputs": [
        {
          "name": "stdout",
          "output_type": "stream",
          "text": [
            "Sum of Squared Errors (SSE): 85972.04\n",
            "Mean Squared Error (MSE): 965.98\n",
            "Mean Absolut Error (MAE): 23.17\n",
            "Root Mean Squared Error (RMSE): 31.08\n",
            "R2-score: 96.32%\n"
          ]
        }
      ],
      "source": [
        "#Analysing the results in training data\n",
        "\n",
        "sse = np.sum((y_teste_predito_forest - y_treino)**2)\n",
        "mse = mean_squared_error(y_treino, y_teste_predito_forest)\n",
        "mae = mean_absolute_error(y_treino, y_teste_predito_forest)\n",
        "rmse = np.sqrt(mean_squared_error(y_treino, y_teste_predito_forest))\n",
        "r2 = r2_score(y_teste_predito_forest, y_treino)\n",
        "\n",
        "print(f\"Sum of Squared Errors (SSE): {sse:.2f}\")\n",
        "print(f\"Mean Squared Error (MSE): {mse:.2f}\")\n",
        "print(f\"Mean Absolut Error (MAE): {mae:.2f}\")\n",
        "print(f\"Root Mean Squared Error (RMSE): {rmse:.2f}\")\n",
        "print(f\"R2-score: {r2:.2%}\")"
      ]
    },
    {
      "cell_type": "code",
      "execution_count": 89,
      "metadata": {
        "colab": {
          "base_uri": "https://localhost:8080/"
        },
        "dotnet_interactive": {
          "language": "csharp"
        },
        "id": "eu9jOwoDgaU8",
        "outputId": "fdc0e3d7-ce3e-4231-d29b-cd6a7e9ffc39",
        "polyglot_notebook": {
          "kernelName": "csharp"
        }
      },
      "outputs": [
        {
          "name": "stdout",
          "output_type": "stream",
          "text": [
            "Prediction using regression, returns continuous values: [473.41394048 243.645      521.1175     457.5090119  304.54\n",
            " 438.685      569.725      306.92       455.644      247.06666667\n",
            " 242.31       515.89       214.308      620.13416667 550.3125\n",
            " 471.73       457.5090119  600.135      238.08       664.06583333\n",
            " 240.03166667 332.64333333 395.93666667]\n"
          ]
        }
      ],
      "source": [
        "#Using the predict method in test data\n",
        "\n",
        "y_teste_predito_forest = rfr.predict(x_teste)\n",
        "print(\"Prediction using regression, returns continuous values: {}\".format(y_teste_predito_forest))"
      ]
    },
    {
      "cell_type": "code",
      "execution_count": 90,
      "metadata": {
        "colab": {
          "base_uri": "https://localhost:8080/",
          "height": 279
        },
        "dotnet_interactive": {
          "language": "csharp"
        },
        "id": "oqH0EUGpgaU8",
        "outputId": "f5fbae65-6a28-4ae0-d83a-f3980b3dc35f",
        "polyglot_notebook": {
          "kernelName": "csharp"
        }
      },
      "outputs": [
        {
          "data": {
            "image/png": "[encoded data removed]",
            "text/plain": [
              "<Figure size 432x288 with 1 Axes>"
            ]
          },
          "metadata": {
            "needs_background": "light"
          },
          "output_type": "display_data"
        }
      ],
      "source": [
        "#Evaluation of the parameters in test data\n",
        "\n",
        "plt.scatter(y_teste, y_teste_predito_forest)\n",
        "plt.xlabel('True Value')\n",
        "plt.ylabel('Predicted Value')\n",
        "plt.show()"
      ]
    },
    {
      "cell_type": "code",
      "execution_count": 91,
      "metadata": {
        "colab": {
          "base_uri": "https://localhost:8080/"
        },
        "dotnet_interactive": {
          "language": "csharp"
        },
        "id": "9cnm-SZvgaU8",
        "outputId": "85b8281e-b8d7-41df-ac3f-51fc2a0b6636",
        "polyglot_notebook": {
          "kernelName": "csharp"
        }
      },
      "outputs": [
        {
          "name": "stdout",
          "output_type": "stream",
          "text": [
            "Sum of Squared Errors (SSE): 123934.66\n",
            "Mean Squared Error (MSE): 5388.46\n",
            "Mean Absolut Error (MAE): 51.82\n",
            "Root Mean Squared Error (RMSE): 73.41\n",
            "R2-score: 71.52%\n"
          ]
        }
      ],
      "source": [
        "#Analysing the results in test data\n",
        "\n",
        "sse = np.sum((y_teste_predito_forest - y_teste)**2)\n",
        "mse = mean_squared_error(y_teste, y_teste_predito_forest)\n",
        "mae = mean_absolute_error(y_teste, y_teste_predito_forest)\n",
        "rmse = np.sqrt(mean_squared_error(y_teste, y_teste_predito_forest))\n",
        "r2 = r2_score(y_teste_predito_forest, y_teste)\n",
        "\n",
        "print(f\"Sum of Squared Errors (SSE): {sse:.2f}\")\n",
        "print(f\"Mean Squared Error (MSE): {mse:.2f}\")\n",
        "print(f\"Mean Absolut Error (MAE): {mae:.2f}\")\n",
        "print(f\"Root Mean Squared Error (RMSE): {rmse:.2f}\")\n",
        "print(f\"R2-score: {r2:.2%}\")"
      ]
    },
    {
      "cell_type": "markdown",
      "metadata": {
        "dotnet_interactive": {
          "language": "csharp"
        },
        "id": "muHlivzNgaU8",
        "polyglot_notebook": {
          "kernelName": "csharp"
        }
      },
      "source": [
        "Sumarize in the table below the results obtained for the training and test datasets"
      ]
    },
    {
      "cell_type": "markdown",
      "metadata": {
        "dotnet_interactive": {
          "language": "csharp"
        },
        "id": "7lDhDYJdgaU8",
        "polyglot_notebook": {
          "kernelName": "csharp"
        }
      },
      "source": [
        "###**Resposta:**\n",
        "\n",
        "|    | algoritmo1 | algoritmo2 |\n",
        "|:---:|:---:|:---:|\n",
        "| treino (R²) | 99.47% | 96.32% |\n",
        "| teste (R²)  | 79.68% | 71.52% |"
      ]
    },
    {
      "cell_type": "markdown",
      "metadata": {
        "dotnet_interactive": {
          "language": "csharp"
        },
        "id": "DLmInZ7JgaU8",
        "polyglot_notebook": {
          "kernelName": "csharp"
        }
      },
      "source": [
        "###Which algorithm had the best result? Justify\n",
        "\n",
        "###**Answer:** \n",
        "The first algorithm, Regression Tree, had a better result;\n",
        "\n",
        "Not only did it have a higher R² score, having a lower error rate, but it tends to be more reliable, since its algorithm, in test, reached a precision above 99% the R² score."
      ]
    },
    {
      "cell_type": "markdown",
      "metadata": {
        "dotnet_interactive": {
          "language": "csharp"
        },
        "id": "n7f7xM_bgaU8",
        "polyglot_notebook": {
          "kernelName": "csharp"
        }
      },
      "source": [
        "## Production model: Test with new data\n",
        "\n",
        "Use your trained model to determine:\n",
        "\n",
        "**`How much is a 72m2 apartment with 2 rooms, 2 parking spaces, renovated in the Center worth?`**\t"
      ]
    },
    {
      "cell_type": "code",
      "execution_count": 30,
      "metadata": {
        "colab": {
          "base_uri": "https://localhost:8080/"
        },
        "dotnet_interactive": {
          "language": "csharp"
        },
        "id": "-fOfQfT2gaU8",
        "outputId": "0d83a3a1-7bb5-4950-c8c6-3d328472ea13",
        "polyglot_notebook": {
          "kernelName": "csharp"
        }
      },
      "outputs": [
        {
          "data": {
            "text/plain": [
              "Index(['metros', 'valor', 'quartos', 'vagas', 'reformado', 'bairro_Assuncao',\n",
              "       'bairro_Baeta Neves', 'bairro_Centro', 'bairro_Demarchi',\n",
              "       'bairro_Ferrazopolis', 'bairro_Independencia', 'bairro_Iraja',\n",
              "       'bairro_Jardim do Mar', 'bairro_Jordanopolis', 'bairro_Nova Petropolis',\n",
              "       'bairro_Pauliceia', 'bairro_Piraporinha', 'bairro_Planalto',\n",
              "       'bairro_Rudge Ramos', 'bairro_Santa Teresinha', 'bairro_Taboao',\n",
              "       'bairro_Vila Lusitania'],\n",
              "      dtype='object')"
            ]
          },
          "execution_count": 30,
          "metadata": {},
          "output_type": "execute_result"
        }
      ],
      "source": [
        "df_treino_teste.columns"
      ]
    },
    {
      "cell_type": "code",
      "execution_count": 31,
      "metadata": {
        "dotnet_interactive": {
          "language": "csharp"
        },
        "id": "28vUicFBgaU8",
        "polyglot_notebook": {
          "kernelName": "csharp"
        }
      },
      "outputs": [],
      "source": [
        "#Ignoring warning\n",
        "import warnings\n",
        "warnings.simplefilter(\"ignore\")"
      ]
    },
    {
      "cell_type": "code",
      "execution_count": 32,
      "metadata": {
        "colab": {
          "base_uri": "https://localhost:8080/"
        },
        "dotnet_interactive": {
          "language": "csharp"
        },
        "id": "fHc044LwgaU9",
        "outputId": "360df615-88a4-4ab4-fa03-0a4df9223d6b",
        "polyglot_notebook": {
          "kernelName": "csharp"
        }
      },
      "outputs": [
        {
          "name": "stdout",
          "output_type": "stream",
          "text": [
            "Predicted value: R$341333.33\n"
          ]
        }
      ],
      "source": [
        "#Value\n",
        "print(f\"Predicted value: R${(dtr.predict([[72,2,2,1, 0, 0, 1, 0, 0, 0, 0, 0, 0, 0, 0, 0, 0, 0, 0, 0, 0]])[0])*1000:.2f}\")"
      ]
    },
    {
      "cell_type": "markdown",
      "metadata": {
        "dotnet_interactive": {
          "language": "csharp"
        },
        "id": "oCrstntDgaU9",
        "polyglot_notebook": {
          "kernelName": "csharp"
        }
      },
      "source": [
        "## 5. Final considerations\n",
        "\n",
        "Phew!!... We have reached the end. Congratulations! In a simplified and complete way, we have gone through all the steps of a machine learning project. Other steps can be added in the data treatment and model development."
      ]
    },
    {
      "cell_type": "markdown",
      "metadata": {
        "dotnet_interactive": {
          "language": "csharp"
        },
        "id": "gwXxL7yegaU9",
        "polyglot_notebook": {
          "kernelName": "csharp"
        }
      },
      "source": [
        "###The developed model had a satisfactory result? Justify:\n",
        "\n",
        "\n",
        "###**Answer**:\n",
        "Yes, the result was satisfactory, since both models reached an accuracy rate of over 70% in the R² score rate, with the first algorithm, Regression Tree, almost reaching 80% of accuracy, in the same parameter."
      ]
    },
    {
      "cell_type": "markdown",
      "metadata": {
        "dotnet_interactive": {
          "language": "csharp"
        },
        "id": "UZvEB1rEgaU9",
        "polyglot_notebook": {
          "kernelName": "csharp"
        }
      },
      "source": [
        "###What would you do differently to improve the result obtained? Justify:\n",
        "\n",
        "###**Answer**:\n",
        "One possibility would be to treat the outliers, since they may have changed some decision node of one or more trees of the Random Forrest model.\n",
        "\n",
        "Another possibility would be to make a subdataset without the \"reformado\" field, since it was observed that this field changes little to nothing the value of the property, which may have caused some bias in the training."
      ]
    }
  ],
  "metadata": {
    "colab": {
      "provenance": []
    },
    "kernelspec": {
      "display_name": "Python 3",
      "language": "python",
      "name": "python3"
    },
    "language_info": {
      "codemirror_mode": {
        "name": "ipython",
        "version": 3
      },
      "file_extension": ".py",
      "mimetype": "text/x-python",
      "name": "python",
      "nbconvert_exporter": "python",
      "pygments_lexer": "ipython3",
      "version": "3.11.2"
    },
    "polyglot_notebook": {
      "kernelInfo": {
        "defaultKernelName": "csharp",
        "items": [
          {
            "aliases": [
              "c#",
              "C#"
            ],
            "languageName": "C#",
            "name": "csharp"
          },
          {
            "aliases": [],
            "languageName": "KQL",
            "name": "kql"
          },
          {
            "aliases": [
              "frontend"
            ],
            "languageName": null,
            "name": "vscode"
          },
          {
            "aliases": [],
            "name": ".NET"
          },
          {
            "aliases": [
              "f#",
              "F#"
            ],
            "languageName": "F#",
            "name": "fsharp"
          },
          {
            "aliases": [],
            "languageName": "HTML",
            "name": "html"
          },
          {
            "aliases": [
              "js"
            ],
            "languageName": "JavaScript",
            "name": "javascript"
          },
          {
            "aliases": [],
            "languageName": "Mermaid",
            "name": "mermaid"
          },
          {
            "aliases": [
              "powershell"
            ],
            "languageName": "PowerShell",
            "name": "pwsh"
          },
          {
            "aliases": [],
            "languageName": "SQL",
            "name": "sql"
          },
          {
            "aliases": [],
            "name": "value"
          },
          {
            "aliases": [],
            "name": "webview"
          }
        ]
      }
    }
  },
  "nbformat": 4,
  "nbformat_minor": 0
}
