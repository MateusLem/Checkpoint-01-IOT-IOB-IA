{
  "cells": [
    {
      "cell_type": "markdown",
      "metadata": {
        "dotnet_interactive": {
          "language": "csharp"
        },
        "id": "cgxrm09UgaUy",
        "polyglot_notebook": {
          "kernelName": "csharp"
        }
      },
      "source": [
        "## Machine Learning\n",
        "### Goals\n",
        "\n",
        "  - Evaluate the concepts of machine learning taught in the course\n"
      ]
    },
    {
      "cell_type": "markdown",
      "metadata": {
        "dotnet_interactive": {
          "language": "csharp"
        },
        "id": "8l7SlzxtgaUz",
        "polyglot_notebook": {
          "kernelName": "csharp"
        }
      },
      "source": [
        "# Challenge\n",
        "\n",
        "You were hired by an innovative company in the real estate sector as `QuintoAndar, Loft, Terraz, Zap Group (ZAP, Viva Real, DataZAP, FipeZAP, SuaHouse, Geoimóvel, Sub100 and Conecta Imobi) or Imobi Conference`. Your challenge is to support decision making based on data (Data Driven Company).\n",
        "\n",
        "Nesse sentido, use a base de dados **aptos.csv** para realizar a descoberta do conhecimento e responder a pergunta: \n",
        "\n",
        "In this sense, use the **aptos.csv** database to discover knowledge and answer the question:\n",
        "\n",
        "**`How much is an apartment worth 72m² with 2 bedrooms, 2 parking spaces, renovated in the Center?`**\n"
      ]
    },
    {
      "cell_type": "markdown",
      "metadata": {
        "dotnet_interactive": {
          "language": "csharp"
        },
        "id": "Y824qiCtgaU0",
        "polyglot_notebook": {
          "kernelName": "csharp"
        }
      },
      "source": [
        "### Guidelines\n",
        "\n",
        "Follow the instructions, completing and building the necessary algorithms.\n",
        "\n",
        "In the cells `Your Code here...` means that it is necessary to implement some code. Use as many blocks (cells) as necessary to create the code.\n",
        "\n",
        "In the cells `Answer` means that it is necessary a clear and objective answer (can be by text, code, graph, image ...) to the question."
      ]
    },
    {
      "cell_type": "markdown",
      "metadata": {
        "dotnet_interactive": {
          "language": "csharp"
        },
        "id": "7IFRUZUWgaU0",
        "polyglot_notebook": {
          "kernelName": "csharp"
        }
      },
      "source": [
        "## Rubric for evaluation\n",
        "    \n",
        "The criterias for evaluation of the project follows as the rubric.\n",
        "\n",
        "- R1: Data Exploration (Up to 2 points)\n",
        "- R2: Descriptive Data Analysis (Up to 2 points)\n",
        "- R3: Model Development (Up to 2 points)\n",
        "- R4: Train and Test of the Model (Up to 2 points)\n",
        "- R5: Final Considerations (Up to 2 points)\n",
        "\n",
        "**Final_grade = R1 + R2 + R3 + R4 + R5**"
      ]
    },
    {
      "cell_type": "markdown",
      "metadata": {
        "dotnet_interactive": {
          "language": "csharp"
        },
        "id": "N6QOz3b9gaU0",
        "polyglot_notebook": {
          "kernelName": "csharp"
        }
      },
      "source": [
        "## 1. Data Exploration\n",
        "\n",
        "Load the dataset and inspect the first 15 lines to identify the basic attributes.\n"
      ]
    },
    {
      "cell_type": "code",
      "execution_count": 1,
      "metadata": {
        "dotnet_interactive": {
          "language": "csharp"
        },
        "id": "uey9OXf1gaU0",
        "polyglot_notebook": {
          "kernelName": "csharp"
        }
      },
      "outputs": [],
      "source": [
        "import seaborn as sns\n",
        "import matplotlib.pyplot as plt\n",
        "import pandas as pd\n",
        "import numpy as np\n",
        "\n",
        "%matplotlib inline"
      ]
    },
    {
      "cell_type": "code",
      "execution_count": 2,
      "metadata": {
        "dotnet_interactive": {
          "language": "csharp"
        },
        "id": "73cTcC6CgaU1",
        "polyglot_notebook": {
          "kernelName": "csharp"
        }
      },
      "outputs": [],
      "source": [
        "df = pd.read_csv('../dataframe/aptos.csv')"
      ]
    },
    {
      "cell_type": "markdown",
      "metadata": {
        "dotnet_interactive": {
          "language": "csharp"
        },
        "id": "yOv1IjA8gaU2",
        "polyglot_notebook": {
          "kernelName": "csharp"
        }
      },
      "source": [
        "###Comprension of the data"
      ]
    },
    {
      "cell_type": "code",
      "execution_count": 3,
      "metadata": {
        "colab": {
          "base_uri": "https://localhost:8080/",
          "height": 0
        },
        "dotnet_interactive": {
          "language": "csharp"
        },
        "id": "YKoOg6gggaU2",
        "outputId": "66d63335-876d-4ef1-ea00-fb704aa395ec",
        "polyglot_notebook": {
          "kernelName": "csharp"
        }
      },
      "outputs": [
        {
          "data": {
            "text/html": [
              "\n",
              "  <div id=\"df-1f30d3d8-1f83-4a50-bbeb-a9928c145405\">\n",
              "    <div class=\"colab-df-container\">\n",
              "      <div>\n",
              "<style scoped>\n",
              "    .dataframe tbody tr th:only-of-type {\n",
              "        vertical-align: middle;\n",
              "    }\n",
              "\n",
              "    .dataframe tbody tr th {\n",
              "        vertical-align: top;\n",
              "    }\n",
              "\n",
              "    .dataframe thead th {\n",
              "        text-align: right;\n",
              "    }\n",
              "</style>\n",
              "<table border=\"1\" class=\"dataframe\">\n",
              "  <thead>\n",
              "    <tr style=\"text-align: right;\">\n",
              "      <th></th>\n",
              "      <th>metros</th>\n",
              "      <th>valor</th>\n",
              "      <th>quartos</th>\n",
              "      <th>vagas</th>\n",
              "      <th>reformado</th>\n",
              "      <th>bairro</th>\n",
              "    </tr>\n",
              "  </thead>\n",
              "  <tbody>\n",
              "    <tr>\n",
              "      <th>0</th>\n",
              "      <td>107</td>\n",
              "      <td>560.0</td>\n",
              "      <td>3</td>\n",
              "      <td>2</td>\n",
              "      <td>0.0</td>\n",
              "      <td>Vila Lusitania</td>\n",
              "    </tr>\n",
              "    <tr>\n",
              "      <th>1</th>\n",
              "      <td>107</td>\n",
              "      <td>555.0</td>\n",
              "      <td>3</td>\n",
              "      <td>2</td>\n",
              "      <td>1.0</td>\n",
              "      <td>Vila Lusitania</td>\n",
              "    </tr>\n",
              "    <tr>\n",
              "      <th>2</th>\n",
              "      <td>49</td>\n",
              "      <td>196.0</td>\n",
              "      <td>2</td>\n",
              "      <td>1</td>\n",
              "      <td>0.0</td>\n",
              "      <td>Ferrazopolis</td>\n",
              "    </tr>\n",
              "    <tr>\n",
              "      <th>3</th>\n",
              "      <td>104</td>\n",
              "      <td>515.0</td>\n",
              "      <td>3</td>\n",
              "      <td>2</td>\n",
              "      <td>1.0</td>\n",
              "      <td>Centro</td>\n",
              "    </tr>\n",
              "    <tr>\n",
              "      <th>4</th>\n",
              "      <td>92</td>\n",
              "      <td>560.0</td>\n",
              "      <td>3</td>\n",
              "      <td>2</td>\n",
              "      <td>1.0</td>\n",
              "      <td>Vila Lusitania</td>\n",
              "    </tr>\n",
              "    <tr>\n",
              "      <th>5</th>\n",
              "      <td>51</td>\n",
              "      <td>249.0</td>\n",
              "      <td>2</td>\n",
              "      <td>1</td>\n",
              "      <td>0.0</td>\n",
              "      <td>Taboao</td>\n",
              "    </tr>\n",
              "    <tr>\n",
              "      <th>6</th>\n",
              "      <td>140</td>\n",
              "      <td>635.0</td>\n",
              "      <td>4</td>\n",
              "      <td>3</td>\n",
              "      <td>1.0</td>\n",
              "      <td>Centro</td>\n",
              "    </tr>\n",
              "    <tr>\n",
              "      <th>7</th>\n",
              "      <td>50</td>\n",
              "      <td>210.0</td>\n",
              "      <td>2</td>\n",
              "      <td>1</td>\n",
              "      <td>1.0</td>\n",
              "      <td>Demarchi</td>\n",
              "    </tr>\n",
              "    <tr>\n",
              "      <th>8</th>\n",
              "      <td>93</td>\n",
              "      <td>450.0</td>\n",
              "      <td>3</td>\n",
              "      <td>2</td>\n",
              "      <td>0.0</td>\n",
              "      <td>Baeta Neves</td>\n",
              "    </tr>\n",
              "    <tr>\n",
              "      <th>9</th>\n",
              "      <td>107</td>\n",
              "      <td>425.0</td>\n",
              "      <td>3</td>\n",
              "      <td>2</td>\n",
              "      <td>1.0</td>\n",
              "      <td>Rudge Ramos</td>\n",
              "    </tr>\n",
              "    <tr>\n",
              "      <th>10</th>\n",
              "      <td>100</td>\n",
              "      <td>422.0</td>\n",
              "      <td>3</td>\n",
              "      <td>2</td>\n",
              "      <td>1.0</td>\n",
              "      <td>Baeta Neves</td>\n",
              "    </tr>\n",
              "    <tr>\n",
              "      <th>11</th>\n",
              "      <td>64</td>\n",
              "      <td>250.0</td>\n",
              "      <td>2</td>\n",
              "      <td>1</td>\n",
              "      <td>1.0</td>\n",
              "      <td>Pauliceia</td>\n",
              "    </tr>\n",
              "    <tr>\n",
              "      <th>12</th>\n",
              "      <td>65</td>\n",
              "      <td>350.0</td>\n",
              "      <td>2</td>\n",
              "      <td>2</td>\n",
              "      <td>1.0</td>\n",
              "      <td>Centro</td>\n",
              "    </tr>\n",
              "    <tr>\n",
              "      <th>13</th>\n",
              "      <td>71</td>\n",
              "      <td>303.0</td>\n",
              "      <td>3</td>\n",
              "      <td>1</td>\n",
              "      <td>0.0</td>\n",
              "      <td>Centro</td>\n",
              "    </tr>\n",
              "    <tr>\n",
              "      <th>14</th>\n",
              "      <td>64</td>\n",
              "      <td>294.0</td>\n",
              "      <td>3</td>\n",
              "      <td>1</td>\n",
              "      <td>0.0</td>\n",
              "      <td>Planalto</td>\n",
              "    </tr>\n",
              "  </tbody>\n",
              "</table>\n",
              "</div>\n",
              "      <button class=\"colab-df-convert\" onclick=\"convertToInteractive('df-1f30d3d8-1f83-4a50-bbeb-a9928c145405')\"\n",
              "              title=\"Convert this dataframe to an interactive table.\"\n",
              "              style=\"display:none;\">\n",
              "        \n",
              "  <svg xmlns=\"http://www.w3.org/2000/svg\" height=\"24px\"viewBox=\"0 0 24 24\"\n",
              "       width=\"24px\">\n",
              "    <path d=\"M0 0h24v24H0V0z\" fill=\"none\"/>\n",
              "    <path d=\"M18.56 5.44l.94 2.06.94-2.06 2.06-.94-2.06-.94-.94-2.06-.94 2.06-2.06.94zm-11 1L8.5 8.5l.94-2.06 2.06-.94-2.06-.94L8.5 2.5l-.94 2.06-2.06.94zm10 10l.94 2.06.94-2.06 2.06-.94-2.06-.94-.94-2.06-.94 2.06-2.06.94z\"/><path d=\"M17.41 7.96l-1.37-1.37c-.4-.4-.92-.59-1.43-.59-.52 0-1.04.2-1.43.59L10.3 9.45l-7.72 7.72c-.78.78-.78 2.05 0 2.83L4 21.41c.39.39.9.59 1.41.59.51 0 1.02-.2 1.41-.59l7.78-7.78 2.81-2.81c.8-.78.8-2.07 0-2.86zM5.41 20L4 18.59l7.72-7.72 1.47 1.35L5.41 20z\"/>\n",
              "  </svg>\n",
              "      </button>\n",
              "      \n",
              "  <style>\n",
              "    .colab-df-container {\n",
              "      display:flex;\n",
              "      flex-wrap:wrap;\n",
              "      gap: 12px;\n",
              "    }\n",
              "\n",
              "    .colab-df-convert {\n",
              "      background-color: #E8F0FE;\n",
              "      border: none;\n",
              "      border-radius: 50%;\n",
              "      cursor: pointer;\n",
              "      display: none;\n",
              "      fill: #1967D2;\n",
              "      height: 32px;\n",
              "      padding: 0 0 0 0;\n",
              "      width: 32px;\n",
              "    }\n",
              "\n",
              "    .colab-df-convert:hover {\n",
              "      background-color: #E2EBFA;\n",
              "      box-shadow: 0px 1px 2px rgba(60, 64, 67, 0.3), 0px 1px 3px 1px rgba(60, 64, 67, 0.15);\n",
              "      fill: #174EA6;\n",
              "    }\n",
              "\n",
              "    [theme=dark] .colab-df-convert {\n",
              "      background-color: #3B4455;\n",
              "      fill: #D2E3FC;\n",
              "    }\n",
              "\n",
              "    [theme=dark] .colab-df-convert:hover {\n",
              "      background-color: #434B5C;\n",
              "      box-shadow: 0px 1px 3px 1px rgba(0, 0, 0, 0.15);\n",
              "      filter: drop-shadow(0px 1px 2px rgba(0, 0, 0, 0.3));\n",
              "      fill: #FFFFFF;\n",
              "    }\n",
              "  </style>\n",
              "\n",
              "      <script>\n",
              "        const buttonEl =\n",
              "          document.querySelector('#df-1f30d3d8-1f83-4a50-bbeb-a9928c145405 button.colab-df-convert');\n",
              "        buttonEl.style.display =\n",
              "          google.colab.kernel.accessAllowed ? 'block' : 'none';\n",
              "\n",
              "        async function convertToInteractive(key) {\n",
              "          const element = document.querySelector('#df-1f30d3d8-1f83-4a50-bbeb-a9928c145405');\n",
              "          const dataTable =\n",
              "            await google.colab.kernel.invokeFunction('convertToInteractive',\n",
              "                                                     [key], {});\n",
              "          if (!dataTable) return;\n",
              "\n",
              "          const docLinkHtml = 'Like what you see? Visit the ' +\n",
              "            '<a target=\"_blank\" href=https://colab.research.google.com/notebooks/data_table.ipynb>data table notebook</a>'\n",
              "            + ' to learn more about interactive tables.';\n",
              "          element.innerHTML = '';\n",
              "          dataTable['output_type'] = 'display_data';\n",
              "          await google.colab.output.renderOutput(dataTable, element);\n",
              "          const docLink = document.createElement('div');\n",
              "          docLink.innerHTML = docLinkHtml;\n",
              "          element.appendChild(docLink);\n",
              "        }\n",
              "      </script>\n",
              "    </div>\n",
              "  </div>\n",
              "  "
            ],
            "text/plain": [
              "    metros  valor  quartos  vagas  reformado          bairro\n",
              "0      107  560.0        3      2        0.0  Vila Lusitania\n",
              "1      107  555.0        3      2        1.0  Vila Lusitania\n",
              "2       49  196.0        2      1        0.0    Ferrazopolis\n",
              "3      104  515.0        3      2        1.0          Centro\n",
              "4       92  560.0        3      2        1.0  Vila Lusitania\n",
              "5       51  249.0        2      1        0.0          Taboao\n",
              "6      140  635.0        4      3        1.0          Centro\n",
              "7       50  210.0        2      1        1.0        Demarchi\n",
              "8       93  450.0        3      2        0.0     Baeta Neves\n",
              "9      107  425.0        3      2        1.0     Rudge Ramos\n",
              "10     100  422.0        3      2        1.0     Baeta Neves\n",
              "11      64  250.0        2      1        1.0       Pauliceia\n",
              "12      65  350.0        2      2        1.0          Centro\n",
              "13      71  303.0        3      1        0.0          Centro\n",
              "14      64  294.0        3      1        0.0        Planalto"
            ]
          },
          "execution_count": 3,
          "metadata": {},
          "output_type": "execute_result"
        }
      ],
      "source": [
        "df.head(15)"
      ]
    },
    {
      "cell_type": "code",
      "execution_count": 4,
      "metadata": {
        "colab": {
          "base_uri": "https://localhost:8080/"
        },
        "dotnet_interactive": {
          "language": "csharp"
        },
        "id": "_VXaurZSgaU2",
        "outputId": "0c6c1c43-f021-40f4-bbfa-a879f6cbcb18",
        "polyglot_notebook": {
          "kernelName": "csharp"
        }
      },
      "outputs": [
        {
          "name": "stdout",
          "output_type": "stream",
          "text": [
            "<class 'pandas.core.frame.DataFrame'>\n",
            "RangeIndex: 114 entries, 0 to 113\n",
            "Data columns (total 6 columns):\n",
            " #   Column     Non-Null Count  Dtype  \n",
            "---  ------     --------------  -----  \n",
            " 0   metros     114 non-null    int64  \n",
            " 1   valor      113 non-null    float64\n",
            " 2   quartos    114 non-null    int64  \n",
            " 3   vagas      114 non-null    int64  \n",
            " 4   reformado  113 non-null    float64\n",
            " 5   bairro     114 non-null    object \n",
            "dtypes: float64(2), int64(3), object(1)\n",
            "memory usage: 5.5+ KB\n"
          ]
        },
        {
          "data": {
            "text/plain": [
              "metros       0\n",
              "valor        1\n",
              "quartos      0\n",
              "vagas        0\n",
              "reformado    1\n",
              "bairro       0\n",
              "dtype: int64"
            ]
          },
          "execution_count": 4,
          "metadata": {},
          "output_type": "execute_result"
        }
      ],
      "source": [
        "#Indentifing null values\n",
        "df.info()\n",
        "df.isnull().sum()"
      ]
    },
    {
      "cell_type": "code",
      "execution_count": 5,
      "metadata": {
        "colab": {
          "base_uri": "https://localhost:8080/",
          "height": 0
        },
        "dotnet_interactive": {
          "language": "csharp"
        },
        "id": "v5t_2Sw0gaU2",
        "outputId": "63d506a0-21ad-4209-ba37-941c1724b9bb",
        "polyglot_notebook": {
          "kernelName": "csharp"
        }
      },
      "outputs": [
        {
          "data": {
            "text/html": [
              "\n",
              "  <div id=\"df-699df8b3-9a61-480f-a911-b35099ac48d9\">\n",
              "    <div class=\"colab-df-container\">\n",
              "      <div>\n",
              "<style scoped>\n",
              "    .dataframe tbody tr th:only-of-type {\n",
              "        vertical-align: middle;\n",
              "    }\n",
              "\n",
              "    .dataframe tbody tr th {\n",
              "        vertical-align: top;\n",
              "    }\n",
              "\n",
              "    .dataframe thead th {\n",
              "        text-align: right;\n",
              "    }\n",
              "</style>\n",
              "<table border=\"1\" class=\"dataframe\">\n",
              "  <thead>\n",
              "    <tr style=\"text-align: right;\">\n",
              "      <th></th>\n",
              "      <th>metros</th>\n",
              "      <th>valor</th>\n",
              "      <th>quartos</th>\n",
              "      <th>vagas</th>\n",
              "      <th>reformado</th>\n",
              "    </tr>\n",
              "  </thead>\n",
              "  <tbody>\n",
              "    <tr>\n",
              "      <th>count</th>\n",
              "      <td>114.000000</td>\n",
              "      <td>113.000000</td>\n",
              "      <td>114.000000</td>\n",
              "      <td>114.000000</td>\n",
              "      <td>113.000000</td>\n",
              "    </tr>\n",
              "    <tr>\n",
              "      <th>mean</th>\n",
              "      <td>79.500000</td>\n",
              "      <td>401.539823</td>\n",
              "      <td>2.543860</td>\n",
              "      <td>1.675439</td>\n",
              "      <td>0.513274</td>\n",
              "    </tr>\n",
              "    <tr>\n",
              "      <th>std</th>\n",
              "      <td>27.516126</td>\n",
              "      <td>171.370059</td>\n",
              "      <td>0.582037</td>\n",
              "      <td>0.722528</td>\n",
              "      <td>0.502050</td>\n",
              "    </tr>\n",
              "    <tr>\n",
              "      <th>min</th>\n",
              "      <td>43.000000</td>\n",
              "      <td>188.000000</td>\n",
              "      <td>1.000000</td>\n",
              "      <td>0.000000</td>\n",
              "      <td>0.000000</td>\n",
              "    </tr>\n",
              "    <tr>\n",
              "      <th>25%</th>\n",
              "      <td>56.000000</td>\n",
              "      <td>255.000000</td>\n",
              "      <td>2.000000</td>\n",
              "      <td>1.000000</td>\n",
              "      <td>0.000000</td>\n",
              "    </tr>\n",
              "    <tr>\n",
              "      <th>50%</th>\n",
              "      <td>71.000000</td>\n",
              "      <td>347.000000</td>\n",
              "      <td>3.000000</td>\n",
              "      <td>2.000000</td>\n",
              "      <td>1.000000</td>\n",
              "    </tr>\n",
              "    <tr>\n",
              "      <th>75%</th>\n",
              "      <td>99.000000</td>\n",
              "      <td>515.000000</td>\n",
              "      <td>3.000000</td>\n",
              "      <td>2.000000</td>\n",
              "      <td>1.000000</td>\n",
              "    </tr>\n",
              "    <tr>\n",
              "      <th>max</th>\n",
              "      <td>199.000000</td>\n",
              "      <td>880.000000</td>\n",
              "      <td>4.000000</td>\n",
              "      <td>4.000000</td>\n",
              "      <td>1.000000</td>\n",
              "    </tr>\n",
              "  </tbody>\n",
              "</table>\n",
              "</div>\n",
              "      <button class=\"colab-df-convert\" onclick=\"convertToInteractive('df-699df8b3-9a61-480f-a911-b35099ac48d9')\"\n",
              "              title=\"Convert this dataframe to an interactive table.\"\n",
              "              style=\"display:none;\">\n",
              "        \n",
              "  <svg xmlns=\"http://www.w3.org/2000/svg\" height=\"24px\"viewBox=\"0 0 24 24\"\n",
              "       width=\"24px\">\n",
              "    <path d=\"M0 0h24v24H0V0z\" fill=\"none\"/>\n",
              "    <path d=\"M18.56 5.44l.94 2.06.94-2.06 2.06-.94-2.06-.94-.94-2.06-.94 2.06-2.06.94zm-11 1L8.5 8.5l.94-2.06 2.06-.94-2.06-.94L8.5 2.5l-.94 2.06-2.06.94zm10 10l.94 2.06.94-2.06 2.06-.94-2.06-.94-.94-2.06-.94 2.06-2.06.94z\"/><path d=\"M17.41 7.96l-1.37-1.37c-.4-.4-.92-.59-1.43-.59-.52 0-1.04.2-1.43.59L10.3 9.45l-7.72 7.72c-.78.78-.78 2.05 0 2.83L4 21.41c.39.39.9.59 1.41.59.51 0 1.02-.2 1.41-.59l7.78-7.78 2.81-2.81c.8-.78.8-2.07 0-2.86zM5.41 20L4 18.59l7.72-7.72 1.47 1.35L5.41 20z\"/>\n",
              "  </svg>\n",
              "      </button>\n",
              "      \n",
              "  <style>\n",
              "    .colab-df-container {\n",
              "      display:flex;\n",
              "      flex-wrap:wrap;\n",
              "      gap: 12px;\n",
              "    }\n",
              "\n",
              "    .colab-df-convert {\n",
              "      background-color: #E8F0FE;\n",
              "      border: none;\n",
              "      border-radius: 50%;\n",
              "      cursor: pointer;\n",
              "      display: none;\n",
              "      fill: #1967D2;\n",
              "      height: 32px;\n",
              "      padding: 0 0 0 0;\n",
              "      width: 32px;\n",
              "    }\n",
              "\n",
              "    .colab-df-convert:hover {\n",
              "      background-color: #E2EBFA;\n",
              "      box-shadow: 0px 1px 2px rgba(60, 64, 67, 0.3), 0px 1px 3px 1px rgba(60, 64, 67, 0.15);\n",
              "      fill: #174EA6;\n",
              "    }\n",
              "\n",
              "    [theme=dark] .colab-df-convert {\n",
              "      background-color: #3B4455;\n",
              "      fill: #D2E3FC;\n",
              "    }\n",
              "\n",
              "    [theme=dark] .colab-df-convert:hover {\n",
              "      background-color: #434B5C;\n",
              "      box-shadow: 0px 1px 3px 1px rgba(0, 0, 0, 0.15);\n",
              "      filter: drop-shadow(0px 1px 2px rgba(0, 0, 0, 0.3));\n",
              "      fill: #FFFFFF;\n",
              "    }\n",
              "  </style>\n",
              "\n",
              "      <script>\n",
              "        const buttonEl =\n",
              "          document.querySelector('#df-699df8b3-9a61-480f-a911-b35099ac48d9 button.colab-df-convert');\n",
              "        buttonEl.style.display =\n",
              "          google.colab.kernel.accessAllowed ? 'block' : 'none';\n",
              "\n",
              "        async function convertToInteractive(key) {\n",
              "          const element = document.querySelector('#df-699df8b3-9a61-480f-a911-b35099ac48d9');\n",
              "          const dataTable =\n",
              "            await google.colab.kernel.invokeFunction('convertToInteractive',\n",
              "                                                     [key], {});\n",
              "          if (!dataTable) return;\n",
              "\n",
              "          const docLinkHtml = 'Like what you see? Visit the ' +\n",
              "            '<a target=\"_blank\" href=https://colab.research.google.com/notebooks/data_table.ipynb>data table notebook</a>'\n",
              "            + ' to learn more about interactive tables.';\n",
              "          element.innerHTML = '';\n",
              "          dataTable['output_type'] = 'display_data';\n",
              "          await google.colab.output.renderOutput(dataTable, element);\n",
              "          const docLink = document.createElement('div');\n",
              "          docLink.innerHTML = docLinkHtml;\n",
              "          element.appendChild(docLink);\n",
              "        }\n",
              "      </script>\n",
              "    </div>\n",
              "  </div>\n",
              "  "
            ],
            "text/plain": [
              "           metros       valor     quartos       vagas   reformado\n",
              "count  114.000000  113.000000  114.000000  114.000000  113.000000\n",
              "mean    79.500000  401.539823    2.543860    1.675439    0.513274\n",
              "std     27.516126  171.370059    0.582037    0.722528    0.502050\n",
              "min     43.000000  188.000000    1.000000    0.000000    0.000000\n",
              "25%     56.000000  255.000000    2.000000    1.000000    0.000000\n",
              "50%     71.000000  347.000000    3.000000    2.000000    1.000000\n",
              "75%     99.000000  515.000000    3.000000    2.000000    1.000000\n",
              "max    199.000000  880.000000    4.000000    4.000000    1.000000"
            ]
          },
          "execution_count": 5,
          "metadata": {},
          "output_type": "execute_result"
        }
      ],
      "source": [
        "df.describe()"
      ]
    },
    {
      "attachments": {},
      "cell_type": "markdown",
      "metadata": {
        "dotnet_interactive": {
          "language": "csharp"
        },
        "id": "_x0O8NMmgaU2",
        "polyglot_notebook": {
          "kernelName": "csharp"
        }
      },
      "source": [
        "### `Question:` Do a breif description of each atributte:\n",
        "\n",
        "Exemple:\n",
        "- Age: Age of the person in years\n",
        "- Brand: Car fabricator\n",
        "- Fuel: Fuel type (gasoline, diesel...)\n",
        "- Species: Type of flower iris-setosa, virginica... (Target Variable)\n",
        "\n",
        "###**Answer:**\n",
        "\n",
        "* Metros: Property size in m²\n",
        "* Valor: Property value (in thousands of R$) (Target Variable)\n",
        "* Quartos: Number of rooms in the property\n",
        "* Vagas: Number of parking spaces in the property\n",
        "* Reformado: If the property has been renovated (0 = no, 1 = yes)\n",
        "* Bairro: Property neighborhood"
      ]
    },
    {
      "cell_type": "markdown",
      "metadata": {
        "dotnet_interactive": {
          "language": "csharp"
        },
        "id": "uwpdaxDxgaU3",
        "polyglot_notebook": {
          "kernelName": "csharp"
        }
      },
      "source": [
        "###Name 2 scenarios that may make sense in reading the data presented.\n",
        "\n",
        "Exemple: \n",
        "- I think the price of gasoline goes up with the price of oil. \n",
        "- I think that on avarage men are taller than women of the same age.\n",
        "\n",
        "###**Answer:**\n",
        "\n",
        "1.  Bigger properties tend to be more expensive.\n",
        "2.  Renovated properties tend to be more expensive."
      ]
    },
    {
      "cell_type": "markdown",
      "metadata": {
        "dotnet_interactive": {
          "language": "csharp"
        },
        "id": "JToSuu1ZgaU3",
        "polyglot_notebook": {
          "kernelName": "csharp"
        }
      },
      "source": [
        "## 2. Descriptive Data Analysis\n",
        "\n",
        "Make an exploratory analysis of the data. Use charts and auxiliary tables, make correlations between the attributes .... With the objective of validating the statements raised above."
      ]
    },
    {
      "cell_type": "code",
      "execution_count": 6,
      "metadata": {
        "colab": {
          "base_uri": "https://localhost:8080/",
          "height": 269
        },
        "dotnet_interactive": {
          "language": "csharp"
        },
        "id": "rCNFZVukgaU3",
        "outputId": "0098fb08-e98a-4ba6-c632-e709e36e177a",
        "polyglot_notebook": {
          "kernelName": "csharp"
        }
      },
      "outputs": [
        {
          "data": {
            "image/png": "[encoded data removed]",
            "text/plain": [
              "<Figure size 432x288 with 2 Axes>"
            ]
          },
          "metadata": {
            "needs_background": "light"
          },
          "output_type": "display_data"
        }
      ],
      "source": [
        "#Case 1: Bigger properties have higher prices\n",
        "\n",
        "sns.heatmap(df.corr(), annot=True)\n",
        "plt.show()"
      ]
    },
    {
      "cell_type": "markdown",
      "metadata": {
        "dotnet_interactive": {
          "language": "csharp"
        },
        "id": "9qXmBRGwgaU3",
        "polyglot_notebook": {
          "kernelName": "csharp"
        }
      },
      "source": [
        "* Case 1: Through the heatmap analysis, it was possible to notice that there is a strong correlation (0.92) between the property size and it's value, being this correlation a directly proportional one. "
      ]
    },
    {
      "cell_type": "code",
      "execution_count": 7,
      "metadata": {
        "colab": {
          "base_uri": "https://localhost:8080/",
          "height": 279
        },
        "dotnet_interactive": {
          "language": "csharp"
        },
        "id": "nrFFwgXggaU3",
        "outputId": "f4f4d978-6879-4951-dabf-76d88a4e29f1",
        "polyglot_notebook": {
          "kernelName": "csharp"
        }
      },
      "outputs": [
        {
          "data": {
            "image/png": "[encoded data removed]",
            "text/plain": [
              "<Figure size 432x288 with 1 Axes>"
            ]
          },
          "metadata": {
            "needs_background": "light"
          },
          "output_type": "display_data"
        }
      ],
      "source": [
        "#Case 2: Renovated properties have higher prices\n",
        "\n",
        "sns.barplot(data=df, x=\"reformado\", y=\"valor\")\n",
        "\n",
        "plt.show()"
      ]
    },
    {
      "cell_type": "markdown",
      "metadata": {
        "dotnet_interactive": {
          "language": "csharp"
        },
        "id": "DtvMIg1egaU3",
        "polyglot_notebook": {
          "kernelName": "csharp"
        }
      },
      "source": [
        "* Case 2: Through the barplot analysis, it's possible to notice 2 possible scenarios:\n",
        "  * There's a weak correlation between the property being renovated and it's value, being this correlation an inversely proportional one (if the property was renovated, it's value tends to be lower).\n",
        "  * There is no correlation between the property being renovated and it's value."
      ]
    },
    {
      "cell_type": "markdown",
      "metadata": {
        "dotnet_interactive": {
          "language": "csharp"
        },
        "id": "kbF4xG48gaU4",
        "polyglot_notebook": {
          "kernelName": "csharp"
        }
      },
      "source": [
        "### __(BONUS: 1 extra  point)__ Outliers Analysis\n",
        "*This is an extra point, do it if you want...\n",
        "\n",
        "Analyze and treat **outliers**, as a reference for study:\n",
        "\n",
        "* [link1](https://machinelearningmastery.com/model-based-outlier-detection-and-removal-in-python/)\n",
        "* [link2](https://towardsdatascience.com/4-machine-learning-techniques-for-outlier-detection-in-python-21e9cfacb81d)\n",
        "* [link3](https://minerandodados.com.br/tratando-outliers-python/)\n",
        "\n",
        "###Were locate outliers? Which analysis method did you use? If there were, how did you treat them (were they removed or kept)?"
      ]
    },
    {
      "cell_type": "code",
      "execution_count": 8,
      "metadata": {
        "colab": {
          "base_uri": "https://localhost:8080/"
        },
        "dotnet_interactive": {
          "language": "csharp"
        },
        "id": "UQmvsRKRgaU4",
        "outputId": "19e1a024-baf3-4900-c935-6e0d9f8fb94b",
        "polyglot_notebook": {
          "kernelName": "csharp"
        }
      },
      "outputs": [
        {
          "name": "stdout",
          "output_type": "stream",
          "text": [
            "<class 'pandas.core.frame.DataFrame'>\n",
            "Int64Index: 112 entries, 0 to 113\n",
            "Data columns (total 6 columns):\n",
            " #   Column     Non-Null Count  Dtype  \n",
            "---  ------     --------------  -----  \n",
            " 0   metros     112 non-null    int64  \n",
            " 1   valor      112 non-null    float64\n",
            " 2   quartos    112 non-null    int64  \n",
            " 3   vagas      112 non-null    int64  \n",
            " 4   reformado  112 non-null    float64\n",
            " 5   bairro     112 non-null    object \n",
            "dtypes: float64(2), int64(3), object(1)\n",
            "memory usage: 6.1+ KB\n"
          ]
        }
      ],
      "source": [
        "#Treatment of null values\n",
        "df_trat=df.dropna()\n",
        "df_trat.info()"
      ]
    },
    {
      "cell_type": "code",
      "execution_count": 9,
      "metadata": {
        "colab": {
          "base_uri": "https://localhost:8080/",
          "height": 751
        },
        "dotnet_interactive": {
          "language": "csharp"
        },
        "id": "UUpCxk0RgaU4",
        "outputId": "b41bf18d-a9dc-4caf-9315-b8caf2be3da3",
        "polyglot_notebook": {
          "kernelName": "csharp"
        }
      },
      "outputs": [
        {
          "data": {
            "image/png": "[encoded data removed]",
            "text/plain": [
              "<Figure size 1440x1440 with 9 Axes>"
            ]
          },
          "metadata": {
            "needs_background": "light"
          },
          "output_type": "display_data"
        }
      ],
      "source": [
        "#Indetifying outliers\n",
        "df_trat.plot(kind='box', subplots=True, layout=(3,3), sharex=False, sharey=False, figsize=(20, 20))\n",
        "plt.show()"
      ]
    },
    {
      "cell_type": "code",
      "execution_count": 10,
      "metadata": {
        "colab": {
          "base_uri": "https://localhost:8080/",
          "height": 879
        },
        "dotnet_interactive": {
          "language": "csharp"
        },
        "id": "Gs_AzYSQgaU4",
        "outputId": "4f7e7fb1-f967-4f48-e31b-230c799f7904",
        "polyglot_notebook": {
          "kernelName": "csharp"
        }
      },
      "outputs": [
        {
          "data": {
            "image/png": "[encoded data removed]",
            "text/plain": [
              "<Figure size 1080x1080 with 6 Axes>"
            ]
          },
          "metadata": {
            "needs_background": "light"
          },
          "output_type": "display_data"
        }
      ],
      "source": [
        "df_trat.hist(bins=80, figsize=(15, 15))\n",
        "plt.show()"
      ]
    },
    {
      "cell_type": "markdown",
      "metadata": {
        "dotnet_interactive": {
          "language": "csharp"
        },
        "id": "b0Z-09LOgaU4",
        "polyglot_notebook": {
          "kernelName": "csharp"
        }
      },
      "source": [
        "###Answer\n",
        "* Yes, there were outliers in \"quartos\", \"vagas\" and \"valor\";\n",
        "* Were used both boxplot, to identify if there were outliers, as well as histograms, to identify their occurrence;\n",
        "* There was no treatment of the outliers, since they have little representativity."
      ]
    },
    {
      "attachments": {},
      "cell_type": "markdown",
      "metadata": {
        "dotnet_interactive": {
          "language": "csharp"
        },
        "id": "LuRa8eXUgaU4",
        "polyglot_notebook": {
          "kernelName": "csharp"
        }
      },
      "source": [
        "## 3. Model Development"
      ]
    },
    {
      "attachments": {},
      "cell_type": "markdown",
      "metadata": {
        "dotnet_interactive": {
          "language": "csharp"
        },
        "id": "s37yFFezgaU4",
        "polyglot_notebook": {
          "kernelName": "csharp"
        }
      },
      "source": [
        "###The dataset indicates the application of which machine learning model to determine the value of a property? Why?\n",
        "\n",
        "###**Answer:**\n",
        "\n",
        "    [ ] Reinforcement learning\n",
        "    [x] Supervised Learning\n",
        "    [ ] Unsupervised Learning\n",
        "\n",
        "* The supervised model is the most appropriate, since we will inform the parameters that the machine will use to make the prediction."
      ]
    },
    {
      "attachments": {},
      "cell_type": "markdown",
      "metadata": {
        "dotnet_interactive": {
          "language": "csharp"
        },
        "id": "KRYyzD58gaU5",
        "polyglot_notebook": {
          "kernelName": "csharp"
        }
      },
      "source": [
        "###Which technique is suggested for this project?\n",
        "\n",
        "###**Answer:**\n",
        "\n",
        "    [X] Regression\n",
        "    [ ] Classification\n",
        "    [ ] Clustering\n",
        "\n",
        "* The regression technique is the most appropriate, since we want to estimate a numeric value."
      ]
    },
    {
      "attachments": {},
      "cell_type": "markdown",
      "metadata": {
        "dotnet_interactive": {
          "language": "csharp"
        },
        "id": "MLzoO2m9gaU5",
        "polyglot_notebook": {
          "kernelName": "csharp"
        }
      },
      "source": [
        "###Choose 2 algorithms models to test the performance of each one of them.\n",
        "\n",
        "###**Answer:**\n",
        "\n",
        "1. Regression Trees;\n",
        "2. Random Forest Regression."
      ]
    },
    {
      "attachments": {},
      "cell_type": "markdown",
      "metadata": {
        "dotnet_interactive": {
          "language": "csharp"
        },
        "id": "jCfJQsTDgaU5",
        "polyglot_notebook": {
          "kernelName": "csharp"
        }
      },
      "source": [
        "###__(BONUS: 1 extra point.)__ Explain how each algorithm works.\n",
        "\n",
        "###**Answer:**\n",
        "\n",
        "1. This model consists of a decision tree that, in training, observes different characteristics of the items in the DataFrame in order to be able to, in execution, predict the value of the target;\n",
        "\n",
        "2. This model consists of a set of Regression Trees, each one with a different set of characteristics, which, in execution, will predict the value of the target, based on the average of the values predicted by each tree."
      ]
    },
    {
      "attachments": {},
      "cell_type": "markdown",
      "metadata": {
        "dotnet_interactive": {
          "language": "csharp"
        },
        "id": "g52B2HmfgaU5",
        "polyglot_notebook": {
          "kernelName": "csharp"
        }
      },
      "source": [
        "## 4. Train and Test of the Model"
      ]
    },
    {
      "attachments": {},
      "cell_type": "markdown",
      "metadata": {
        "dotnet_interactive": {
          "language": "csharp"
        },
        "id": "H2qJJ9megaU5",
        "polyglot_notebook": {
          "kernelName": "csharp"
        }
      },
      "source": [
        "Create a subset of the data only with the attributes that will be used for training and testing the model. Divide the subset into training and test set."
      ]
    },
    {
      "cell_type": "code",
      "execution_count": 11,
      "metadata": {
        "colab": {
          "base_uri": "https://localhost:8080/",
          "height": 505
        },
        "dotnet_interactive": {
          "language": "csharp"
        },
        "id": "ydTFybC3gaU5",
        "outputId": "58a51d6c-9560-4b8b-b7ea-5704220eaf7f",
        "polyglot_notebook": {
          "kernelName": "csharp"
        }
      },
      "outputs": [
        {
          "data": {
            "text/html": [
              "\n",
              "  <div id=\"df-6c0e9576-c35f-42be-b352-0a56936201fd\">\n",
              "    <div class=\"colab-df-container\">\n",
              "      <div>\n",
              "<style scoped>\n",
              "    .dataframe tbody tr th:only-of-type {\n",
              "        vertical-align: middle;\n",
              "    }\n",
              "\n",
              "    .dataframe tbody tr th {\n",
              "        vertical-align: top;\n",
              "    }\n",
              "\n",
              "    .dataframe thead th {\n",
              "        text-align: right;\n",
              "    }\n",
              "</style>\n",
              "<table border=\"1\" class=\"dataframe\">\n",
              "  <thead>\n",
              "    <tr style=\"text-align: right;\">\n",
              "      <th></th>\n",
              "      <th>metros</th>\n",
              "      <th>valor</th>\n",
              "      <th>quartos</th>\n",
              "      <th>vagas</th>\n",
              "      <th>reformado</th>\n",
              "      <th>bairro_Assuncao</th>\n",
              "      <th>bairro_Baeta Neves</th>\n",
              "      <th>bairro_Centro</th>\n",
              "      <th>bairro_Demarchi</th>\n",
              "      <th>bairro_Ferrazopolis</th>\n",
              "      <th>...</th>\n",
              "      <th>bairro_Jardim do Mar</th>\n",
              "      <th>bairro_Jordanopolis</th>\n",
              "      <th>bairro_Nova Petropolis</th>\n",
              "      <th>bairro_Pauliceia</th>\n",
              "      <th>bairro_Piraporinha</th>\n",
              "      <th>bairro_Planalto</th>\n",
              "      <th>bairro_Rudge Ramos</th>\n",
              "      <th>bairro_Santa Teresinha</th>\n",
              "      <th>bairro_Taboao</th>\n",
              "      <th>bairro_Vila Lusitania</th>\n",
              "    </tr>\n",
              "  </thead>\n",
              "  <tbody>\n",
              "    <tr>\n",
              "      <th>0</th>\n",
              "      <td>107</td>\n",
              "      <td>560.0</td>\n",
              "      <td>3</td>\n",
              "      <td>2</td>\n",
              "      <td>0.0</td>\n",
              "      <td>0</td>\n",
              "      <td>0</td>\n",
              "      <td>0</td>\n",
              "      <td>0</td>\n",
              "      <td>0</td>\n",
              "      <td>...</td>\n",
              "      <td>0</td>\n",
              "      <td>0</td>\n",
              "      <td>0</td>\n",
              "      <td>0</td>\n",
              "      <td>0</td>\n",
              "      <td>0</td>\n",
              "      <td>0</td>\n",
              "      <td>0</td>\n",
              "      <td>0</td>\n",
              "      <td>1</td>\n",
              "    </tr>\n",
              "    <tr>\n",
              "      <th>1</th>\n",
              "      <td>107</td>\n",
              "      <td>555.0</td>\n",
              "      <td>3</td>\n",
              "      <td>2</td>\n",
              "      <td>1.0</td>\n",
              "      <td>0</td>\n",
              "      <td>0</td>\n",
              "      <td>0</td>\n",
              "      <td>0</td>\n",
              "      <td>0</td>\n",
              "      <td>...</td>\n",
              "      <td>0</td>\n",
              "      <td>0</td>\n",
              "      <td>0</td>\n",
              "      <td>0</td>\n",
              "      <td>0</td>\n",
              "      <td>0</td>\n",
              "      <td>0</td>\n",
              "      <td>0</td>\n",
              "      <td>0</td>\n",
              "      <td>1</td>\n",
              "    </tr>\n",
              "    <tr>\n",
              "      <th>2</th>\n",
              "      <td>49</td>\n",
              "      <td>196.0</td>\n",
              "      <td>2</td>\n",
              "      <td>1</td>\n",
              "      <td>0.0</td>\n",
              "      <td>0</td>\n",
              "      <td>0</td>\n",
              "      <td>0</td>\n",
              "      <td>0</td>\n",
              "      <td>1</td>\n",
              "      <td>...</td>\n",
              "      <td>0</td>\n",
              "      <td>0</td>\n",
              "      <td>0</td>\n",
              "      <td>0</td>\n",
              "      <td>0</td>\n",
              "      <td>0</td>\n",
              "      <td>0</td>\n",
              "      <td>0</td>\n",
              "      <td>0</td>\n",
              "      <td>0</td>\n",
              "    </tr>\n",
              "    <tr>\n",
              "      <th>3</th>\n",
              "      <td>104</td>\n",
              "      <td>515.0</td>\n",
              "      <td>3</td>\n",
              "      <td>2</td>\n",
              "      <td>1.0</td>\n",
              "      <td>0</td>\n",
              "      <td>0</td>\n",
              "      <td>1</td>\n",
              "      <td>0</td>\n",
              "      <td>0</td>\n",
              "      <td>...</td>\n",
              "      <td>0</td>\n",
              "      <td>0</td>\n",
              "      <td>0</td>\n",
              "      <td>0</td>\n",
              "      <td>0</td>\n",
              "      <td>0</td>\n",
              "      <td>0</td>\n",
              "      <td>0</td>\n",
              "      <td>0</td>\n",
              "      <td>0</td>\n",
              "    </tr>\n",
              "    <tr>\n",
              "      <th>4</th>\n",
              "      <td>92</td>\n",
              "      <td>560.0</td>\n",
              "      <td>3</td>\n",
              "      <td>2</td>\n",
              "      <td>1.0</td>\n",
              "      <td>0</td>\n",
              "      <td>0</td>\n",
              "      <td>0</td>\n",
              "      <td>0</td>\n",
              "      <td>0</td>\n",
              "      <td>...</td>\n",
              "      <td>0</td>\n",
              "      <td>0</td>\n",
              "      <td>0</td>\n",
              "      <td>0</td>\n",
              "      <td>0</td>\n",
              "      <td>0</td>\n",
              "      <td>0</td>\n",
              "      <td>0</td>\n",
              "      <td>0</td>\n",
              "      <td>1</td>\n",
              "    </tr>\n",
              "    <tr>\n",
              "      <th>...</th>\n",
              "      <td>...</td>\n",
              "      <td>...</td>\n",
              "      <td>...</td>\n",
              "      <td>...</td>\n",
              "      <td>...</td>\n",
              "      <td>...</td>\n",
              "      <td>...</td>\n",
              "      <td>...</td>\n",
              "      <td>...</td>\n",
              "      <td>...</td>\n",
              "      <td>...</td>\n",
              "      <td>...</td>\n",
              "      <td>...</td>\n",
              "      <td>...</td>\n",
              "      <td>...</td>\n",
              "      <td>...</td>\n",
              "      <td>...</td>\n",
              "      <td>...</td>\n",
              "      <td>...</td>\n",
              "      <td>...</td>\n",
              "      <td>...</td>\n",
              "    </tr>\n",
              "    <tr>\n",
              "      <th>109</th>\n",
              "      <td>65</td>\n",
              "      <td>340.0</td>\n",
              "      <td>2</td>\n",
              "      <td>2</td>\n",
              "      <td>1.0</td>\n",
              "      <td>0</td>\n",
              "      <td>0</td>\n",
              "      <td>1</td>\n",
              "      <td>0</td>\n",
              "      <td>0</td>\n",
              "      <td>...</td>\n",
              "      <td>0</td>\n",
              "      <td>0</td>\n",
              "      <td>0</td>\n",
              "      <td>0</td>\n",
              "      <td>0</td>\n",
              "      <td>0</td>\n",
              "      <td>0</td>\n",
              "      <td>0</td>\n",
              "      <td>0</td>\n",
              "      <td>0</td>\n",
              "    </tr>\n",
              "    <tr>\n",
              "      <th>110</th>\n",
              "      <td>56</td>\n",
              "      <td>247.0</td>\n",
              "      <td>2</td>\n",
              "      <td>1</td>\n",
              "      <td>0.0</td>\n",
              "      <td>0</td>\n",
              "      <td>0</td>\n",
              "      <td>0</td>\n",
              "      <td>0</td>\n",
              "      <td>0</td>\n",
              "      <td>...</td>\n",
              "      <td>0</td>\n",
              "      <td>0</td>\n",
              "      <td>0</td>\n",
              "      <td>0</td>\n",
              "      <td>0</td>\n",
              "      <td>1</td>\n",
              "      <td>0</td>\n",
              "      <td>0</td>\n",
              "      <td>0</td>\n",
              "      <td>0</td>\n",
              "    </tr>\n",
              "    <tr>\n",
              "      <th>111</th>\n",
              "      <td>126</td>\n",
              "      <td>736.0</td>\n",
              "      <td>3</td>\n",
              "      <td>3</td>\n",
              "      <td>0.0</td>\n",
              "      <td>0</td>\n",
              "      <td>0</td>\n",
              "      <td>0</td>\n",
              "      <td>0</td>\n",
              "      <td>0</td>\n",
              "      <td>...</td>\n",
              "      <td>0</td>\n",
              "      <td>0</td>\n",
              "      <td>0</td>\n",
              "      <td>0</td>\n",
              "      <td>0</td>\n",
              "      <td>0</td>\n",
              "      <td>0</td>\n",
              "      <td>0</td>\n",
              "      <td>0</td>\n",
              "      <td>0</td>\n",
              "    </tr>\n",
              "    <tr>\n",
              "      <th>112</th>\n",
              "      <td>96</td>\n",
              "      <td>560.0</td>\n",
              "      <td>3</td>\n",
              "      <td>1</td>\n",
              "      <td>0.0</td>\n",
              "      <td>0</td>\n",
              "      <td>0</td>\n",
              "      <td>1</td>\n",
              "      <td>0</td>\n",
              "      <td>0</td>\n",
              "      <td>...</td>\n",
              "      <td>0</td>\n",
              "      <td>0</td>\n",
              "      <td>0</td>\n",
              "      <td>0</td>\n",
              "      <td>0</td>\n",
              "      <td>0</td>\n",
              "      <td>0</td>\n",
              "      <td>0</td>\n",
              "      <td>0</td>\n",
              "      <td>0</td>\n",
              "    </tr>\n",
              "    <tr>\n",
              "      <th>113</th>\n",
              "      <td>103</td>\n",
              "      <td>667.0</td>\n",
              "      <td>3</td>\n",
              "      <td>3</td>\n",
              "      <td>0.0</td>\n",
              "      <td>0</td>\n",
              "      <td>1</td>\n",
              "      <td>0</td>\n",
              "      <td>0</td>\n",
              "      <td>0</td>\n",
              "      <td>...</td>\n",
              "      <td>0</td>\n",
              "      <td>0</td>\n",
              "      <td>0</td>\n",
              "      <td>0</td>\n",
              "      <td>0</td>\n",
              "      <td>0</td>\n",
              "      <td>0</td>\n",
              "      <td>0</td>\n",
              "      <td>0</td>\n",
              "      <td>0</td>\n",
              "    </tr>\n",
              "  </tbody>\n",
              "</table>\n",
              "<p>112 rows × 22 columns</p>\n",
              "</div>\n",
              "      <button class=\"colab-df-convert\" onclick=\"convertToInteractive('df-6c0e9576-c35f-42be-b352-0a56936201fd')\"\n",
              "              title=\"Convert this dataframe to an interactive table.\"\n",
              "              style=\"display:none;\">\n",
              "        \n",
              "  <svg xmlns=\"http://www.w3.org/2000/svg\" height=\"24px\"viewBox=\"0 0 24 24\"\n",
              "       width=\"24px\">\n",
              "    <path d=\"M0 0h24v24H0V0z\" fill=\"none\"/>\n",
              "    <path d=\"M18.56 5.44l.94 2.06.94-2.06 2.06-.94-2.06-.94-.94-2.06-.94 2.06-2.06.94zm-11 1L8.5 8.5l.94-2.06 2.06-.94-2.06-.94L8.5 2.5l-.94 2.06-2.06.94zm10 10l.94 2.06.94-2.06 2.06-.94-2.06-.94-.94-2.06-.94 2.06-2.06.94z\"/><path d=\"M17.41 7.96l-1.37-1.37c-.4-.4-.92-.59-1.43-.59-.52 0-1.04.2-1.43.59L10.3 9.45l-7.72 7.72c-.78.78-.78 2.05 0 2.83L4 21.41c.39.39.9.59 1.41.59.51 0 1.02-.2 1.41-.59l7.78-7.78 2.81-2.81c.8-.78.8-2.07 0-2.86zM5.41 20L4 18.59l7.72-7.72 1.47 1.35L5.41 20z\"/>\n",
              "  </svg>\n",
              "      </button>\n",
              "      \n",
              "  <style>\n",
              "    .colab-df-container {\n",
              "      display:flex;\n",
              "      flex-wrap:wrap;\n",
              "      gap: 12px;\n",
              "    }\n",
              "\n",
              "    .colab-df-convert {\n",
              "      background-color: #E8F0FE;\n",
              "      border: none;\n",
              "      border-radius: 50%;\n",
              "      cursor: pointer;\n",
              "      display: none;\n",
              "      fill: #1967D2;\n",
              "      height: 32px;\n",
              "      padding: 0 0 0 0;\n",
              "      width: 32px;\n",
              "    }\n",
              "\n",
              "    .colab-df-convert:hover {\n",
              "      background-color: #E2EBFA;\n",
              "      box-shadow: 0px 1px 2px rgba(60, 64, 67, 0.3), 0px 1px 3px 1px rgba(60, 64, 67, 0.15);\n",
              "      fill: #174EA6;\n",
              "    }\n",
              "\n",
              "    [theme=dark] .colab-df-convert {\n",
              "      background-color: #3B4455;\n",
              "      fill: #D2E3FC;\n",
              "    }\n",
              "\n",
              "    [theme=dark] .colab-df-convert:hover {\n",
              "      background-color: #434B5C;\n",
              "      box-shadow: 0px 1px 3px 1px rgba(0, 0, 0, 0.15);\n",
              "      filter: drop-shadow(0px 1px 2px rgba(0, 0, 0, 0.3));\n",
              "      fill: #FFFFFF;\n",
              "    }\n",
              "  </style>\n",
              "\n",
              "      <script>\n",
              "        const buttonEl =\n",
              "          document.querySelector('#df-6c0e9576-c35f-42be-b352-0a56936201fd button.colab-df-convert');\n",
              "        buttonEl.style.display =\n",
              "          google.colab.kernel.accessAllowed ? 'block' : 'none';\n",
              "\n",
              "        async function convertToInteractive(key) {\n",
              "          const element = document.querySelector('#df-6c0e9576-c35f-42be-b352-0a56936201fd');\n",
              "          const dataTable =\n",
              "            await google.colab.kernel.invokeFunction('convertToInteractive',\n",
              "                                                     [key], {});\n",
              "          if (!dataTable) return;\n",
              "\n",
              "          const docLinkHtml = 'Like what you see? Visit the ' +\n",
              "            '<a target=\"_blank\" href=https://colab.research.google.com/notebooks/data_table.ipynb>data table notebook</a>'\n",
              "            + ' to learn more about interactive tables.';\n",
              "          element.innerHTML = '';\n",
              "          dataTable['output_type'] = 'display_data';\n",
              "          await google.colab.output.renderOutput(dataTable, element);\n",
              "          const docLink = document.createElement('div');\n",
              "          docLink.innerHTML = docLinkHtml;\n",
              "          element.appendChild(docLink);\n",
              "        }\n",
              "      </script>\n",
              "    </div>\n",
              "  </div>\n",
              "  "
            ],
            "text/plain": [
              "     metros  valor  quartos  vagas  reformado  bairro_Assuncao  \\\n",
              "0       107  560.0        3      2        0.0                0   \n",
              "1       107  555.0        3      2        1.0                0   \n",
              "2        49  196.0        2      1        0.0                0   \n",
              "3       104  515.0        3      2        1.0                0   \n",
              "4        92  560.0        3      2        1.0                0   \n",
              "..      ...    ...      ...    ...        ...              ...   \n",
              "109      65  340.0        2      2        1.0                0   \n",
              "110      56  247.0        2      1        0.0                0   \n",
              "111     126  736.0        3      3        0.0                0   \n",
              "112      96  560.0        3      1        0.0                0   \n",
              "113     103  667.0        3      3        0.0                0   \n",
              "\n",
              "     bairro_Baeta Neves  bairro_Centro  bairro_Demarchi  bairro_Ferrazopolis  \\\n",
              "0                     0              0                0                    0   \n",
              "1                     0              0                0                    0   \n",
              "2                     0              0                0                    1   \n",
              "3                     0              1                0                    0   \n",
              "4                     0              0                0                    0   \n",
              "..                  ...            ...              ...                  ...   \n",
              "109                   0              1                0                    0   \n",
              "110                   0              0                0                    0   \n",
              "111                   0              0                0                    0   \n",
              "112                   0              1                0                    0   \n",
              "113                   1              0                0                    0   \n",
              "\n",
              "     ...  bairro_Jardim do Mar  bairro_Jordanopolis  bairro_Nova Petropolis  \\\n",
              "0    ...                     0                    0                       0   \n",
              "1    ...                     0                    0                       0   \n",
              "2    ...                     0                    0                       0   \n",
              "3    ...                     0                    0                       0   \n",
              "4    ...                     0                    0                       0   \n",
              "..   ...                   ...                  ...                     ...   \n",
              "109  ...                     0                    0                       0   \n",
              "110  ...                     0                    0                       0   \n",
              "111  ...                     0                    0                       0   \n",
              "112  ...                     0                    0                       0   \n",
              "113  ...                     0                    0                       0   \n",
              "\n",
              "     bairro_Pauliceia  bairro_Piraporinha  bairro_Planalto  \\\n",
              "0                   0                   0                0   \n",
              "1                   0                   0                0   \n",
              "2                   0                   0                0   \n",
              "3                   0                   0                0   \n",
              "4                   0                   0                0   \n",
              "..                ...                 ...              ...   \n",
              "109                 0                   0                0   \n",
              "110                 0                   0                1   \n",
              "111                 0                   0                0   \n",
              "112                 0                   0                0   \n",
              "113                 0                   0                0   \n",
              "\n",
              "     bairro_Rudge Ramos  bairro_Santa Teresinha  bairro_Taboao  \\\n",
              "0                     0                       0              0   \n",
              "1                     0                       0              0   \n",
              "2                     0                       0              0   \n",
              "3                     0                       0              0   \n",
              "4                     0                       0              0   \n",
              "..                  ...                     ...            ...   \n",
              "109                   0                       0              0   \n",
              "110                   0                       0              0   \n",
              "111                   0                       0              0   \n",
              "112                   0                       0              0   \n",
              "113                   0                       0              0   \n",
              "\n",
              "     bairro_Vila Lusitania  \n",
              "0                        1  \n",
              "1                        1  \n",
              "2                        0  \n",
              "3                        0  \n",
              "4                        1  \n",
              "..                     ...  \n",
              "109                      0  \n",
              "110                      0  \n",
              "111                      0  \n",
              "112                      0  \n",
              "113                      0  \n",
              "\n",
              "[112 rows x 22 columns]"
            ]
          },
          "execution_count": 11,
          "metadata": {},
          "output_type": "execute_result"
        }
      ],
      "source": [
        "df_treino_teste=pd.get_dummies(df_trat,columns=[\"bairro\"])\n",
        "df_treino_teste"
      ]
    },
    {
      "cell_type": "code",
      "execution_count": 12,
      "metadata": {
        "dotnet_interactive": {
          "language": "csharp"
        },
        "id": "JSikWgpigaU5",
        "polyglot_notebook": {
          "kernelName": "csharp"
        }
      },
      "outputs": [],
      "source": [
        "x = df_treino_teste.drop(\"valor\",axis = 1)\n",
        "y = df_treino_teste.valor"
      ]
    },
    {
      "cell_type": "code",
      "execution_count": 13,
      "metadata": {
        "dotnet_interactive": {
          "language": "csharp"
        },
        "id": "QZLm0IvqgaU5",
        "polyglot_notebook": {
          "kernelName": "csharp"
        }
      },
      "outputs": [],
      "source": [
        "#Splitting the dataset into training and test\n",
        "from sklearn.model_selection import train_test_split\n",
        "x_treino, x_teste, y_treino, y_teste = train_test_split(x,y,test_size=0.2, random_state=42)"
      ]
    },
    {
      "attachments": {},
      "cell_type": "markdown",
      "metadata": {
        "dotnet_interactive": {
          "language": "csharp"
        },
        "id": "h_U9qplCgaU6",
        "polyglot_notebook": {
          "kernelName": "csharp"
        }
      },
      "source": [
        "Train and test the 2 chosen algorithms. Use a metric (ex. R2-score, RMSE and MAE...) to evaluate the performance of the models."
      ]
    },
    {
      "attachments": {},
      "cell_type": "markdown",
      "metadata": {
        "dotnet_interactive": {
          "language": "csharp"
        },
        "id": "28kRHN9ZgaU6",
        "polyglot_notebook": {
          "kernelName": "csharp"
        }
      },
      "source": [
        "### Algorithm 1 -> Regression Decision Tree"
      ]
    },
    {
      "cell_type": "code",
      "execution_count": 14,
      "metadata": {
        "dotnet_interactive": {
          "language": "csharp"
        },
        "id": "4BJgd7YrgaU6",
        "polyglot_notebook": {
          "kernelName": "csharp"
        }
      },
      "outputs": [],
      "source": [
        "#Importing\n",
        "from sklearn.tree import DecisionTreeRegressor\n",
        "from sklearn.metrics import r2_score, mean_squared_error,mean_absolute_error\n",
        "\n",
        "dtr = DecisionTreeRegressor()"
      ]
    },
    {
      "cell_type": "code",
      "execution_count": 15,
      "metadata": {
        "colab": {
          "base_uri": "https://localhost:8080/",
          "height": 75
        },
        "dotnet_interactive": {
          "language": "csharp"
        },
        "id": "UomUsFtVgaU6",
        "outputId": "fc455fb0-fcad-4a49-ebb5-92d6ee6a4e30",
        "polyglot_notebook": {
          "kernelName": "csharp"
        }
      },
      "outputs": [
        {
          "data": {
            "text/html": [
              "<style>#sk-container-id-1 {color: black;background-color: white;}#sk-container-id-1 pre{padding: 0;}#sk-container-id-1 div.sk-toggleable {background-color: white;}#sk-container-id-1 label.sk-toggleable__label {cursor: pointer;display: block;width: 100%;margin-bottom: 0;padding: 0.3em;box-sizing: border-box;text-align: center;}#sk-container-id-1 label.sk-toggleable__label-arrow:before {content: \"▸\";float: left;margin-right: 0.25em;color: #696969;}#sk-container-id-1 label.sk-toggleable__label-arrow:hover:before {color: black;}#sk-container-id-1 div.sk-estimator:hover label.sk-toggleable__label-arrow:before {color: black;}#sk-container-id-1 div.sk-toggleable__content {max-height: 0;max-width: 0;overflow: hidden;text-align: left;background-color: #f0f8ff;}#sk-container-id-1 div.sk-toggleable__content pre {margin: 0.2em;color: black;border-radius: 0.25em;background-color: #f0f8ff;}#sk-container-id-1 input.sk-toggleable__control:checked~div.sk-toggleable__content {max-height: 200px;max-width: 100%;overflow: auto;}#sk-container-id-1 input.sk-toggleable__control:checked~label.sk-toggleable__label-arrow:before {content: \"▾\";}#sk-container-id-1 div.sk-estimator input.sk-toggleable__control:checked~label.sk-toggleable__label {background-color: #d4ebff;}#sk-container-id-1 div.sk-label input.sk-toggleable__control:checked~label.sk-toggleable__label {background-color: #d4ebff;}#sk-container-id-1 input.sk-hidden--visually {border: 0;clip: rect(1px 1px 1px 1px);clip: rect(1px, 1px, 1px, 1px);height: 1px;margin: -1px;overflow: hidden;padding: 0;position: absolute;width: 1px;}#sk-container-id-1 div.sk-estimator {font-family: monospace;background-color: #f0f8ff;border: 1px dotted black;border-radius: 0.25em;box-sizing: border-box;margin-bottom: 0.5em;}#sk-container-id-1 div.sk-estimator:hover {background-color: #d4ebff;}#sk-container-id-1 div.sk-parallel-item::after {content: \"\";width: 100%;border-bottom: 1px solid gray;flex-grow: 1;}#sk-container-id-1 div.sk-label:hover label.sk-toggleable__label {background-color: #d4ebff;}#sk-container-id-1 div.sk-serial::before {content: \"\";position: absolute;border-left: 1px solid gray;box-sizing: border-box;top: 0;bottom: 0;left: 50%;z-index: 0;}#sk-container-id-1 div.sk-serial {display: flex;flex-direction: column;align-items: center;background-color: white;padding-right: 0.2em;padding-left: 0.2em;position: relative;}#sk-container-id-1 div.sk-item {position: relative;z-index: 1;}#sk-container-id-1 div.sk-parallel {display: flex;align-items: stretch;justify-content: center;background-color: white;position: relative;}#sk-container-id-1 div.sk-item::before, #sk-container-id-1 div.sk-parallel-item::before {content: \"\";position: absolute;border-left: 1px solid gray;box-sizing: border-box;top: 0;bottom: 0;left: 50%;z-index: -1;}#sk-container-id-1 div.sk-parallel-item {display: flex;flex-direction: column;z-index: 1;position: relative;background-color: white;}#sk-container-id-1 div.sk-parallel-item:first-child::after {align-self: flex-end;width: 50%;}#sk-container-id-1 div.sk-parallel-item:last-child::after {align-self: flex-start;width: 50%;}#sk-container-id-1 div.sk-parallel-item:only-child::after {width: 0;}#sk-container-id-1 div.sk-dashed-wrapped {border: 1px dashed gray;margin: 0 0.4em 0.5em 0.4em;box-sizing: border-box;padding-bottom: 0.4em;background-color: white;}#sk-container-id-1 div.sk-label label {font-family: monospace;font-weight: bold;display: inline-block;line-height: 1.2em;}#sk-container-id-1 div.sk-label-container {text-align: center;}#sk-container-id-1 div.sk-container {/* jupyter's `normalize.less` sets `[hidden] { display: none; }` but bootstrap.min.css set `[hidden] { display: none !important; }` so we also need the `!important` here to be able to override the default hidden behavior on the sphinx rendered scikit-learn.org. See: https://github.com/scikit-learn/scikit-learn/issues/21755 */display: inline-block !important;position: relative;}#sk-container-id-1 div.sk-text-repr-fallback {display: none;}</style><div id=\"sk-container-id-1\" class=\"sk-top-container\"><div class=\"sk-text-repr-fallback\"><pre>DecisionTreeRegressor()</pre><b>In a Jupyter environment, please rerun this cell to show the HTML representation or trust the notebook. <br />On GitHub, the HTML representation is unable to render, please try loading this page with nbviewer.org.</b></div><div class=\"sk-container\" hidden><div class=\"sk-item\"><div class=\"sk-estimator sk-toggleable\"><input class=\"sk-toggleable__control sk-hidden--visually\" id=\"sk-estimator-id-1\" type=\"checkbox\" checked><label for=\"sk-estimator-id-1\" class=\"sk-toggleable__label sk-toggleable__label-arrow\">DecisionTreeRegressor</label><div class=\"sk-toggleable__content\"><pre>DecisionTreeRegressor()</pre></div></div></div></div></div>"
            ],
            "text/plain": [
              "DecisionTreeRegressor()"
            ]
          },
          "execution_count": 15,
          "metadata": {},
          "output_type": "execute_result"
        }
      ],
      "source": [
        "#Fitting the data\n",
        "dtr.fit(x_treino, y_treino)"
      ]
    },
    {
      "cell_type": "code",
      "execution_count": 16,
      "metadata": {
        "colab": {
          "base_uri": "https://localhost:8080/"
        },
        "dotnet_interactive": {
          "language": "csharp"
        },
        "id": "P66_MWizgaU6",
        "outputId": "a3a11dcf-fd23-44c7-f319-c4d758b7907d",
        "polyglot_notebook": {
          "kernelName": "csharp"
        }
      },
      "outputs": [
        {
          "name": "stdout",
          "output_type": "stream",
          "text": [
            "Predição usando regressão, retorna valores continuos: [250.         245.         807.5        270.         322.\n",
            " 460.         319.         300.         798.         255.\n",
            " 425.         341.33333333 277.         215.         280.\n",
            " 247.         249.         340.         250.         580.\n",
            " 450.         710.         565.         220.         560.\n",
            " 199.         341.33333333 302.         659.         306.\n",
            " 456.75       280.         367.         330.         456.75\n",
            " 272.         341.33333333 303.         340.         495.\n",
            " 515.         247.5        880.         220.         635.\n",
            " 365.         480.         565.         509.         347.\n",
            " 227.         303.         456.75       602.5        247.\n",
            " 736.         580.         300.         515.         215.\n",
            " 199.         210.         390.         250.         460.\n",
            " 245.         520.         750.         807.5        422.\n",
            " 602.5        525.         485.         196.         485.\n",
            " 195.         200.         217.         307.         456.75\n",
            " 667.         545.         330.         247.5        359.\n",
            " 294.         570.         360.         200.        ]\n"
          ]
        }
      ],
      "source": [
        "#Using the predict method in training data\n",
        "\n",
        "y_teste_predito_forest = dtr.predict(x_treino)\n",
        "print(\"Prediction using regression, returns continuos values: {}\".format(y_teste_predito_forest))"
      ]
    },
    {
      "cell_type": "code",
      "execution_count": 17,
      "metadata": {
        "colab": {
          "base_uri": "https://localhost:8080/",
          "height": 279
        },
        "dotnet_interactive": {
          "language": "csharp"
        },
        "id": "ApwwsNdzgaU6",
        "outputId": "a0f58646-e4cb-46f0-ce89-2d3b100721aa",
        "polyglot_notebook": {
          "kernelName": "csharp"
        }
      },
      "outputs": [
        {
          "data": {
            "image/png": "[encoded data removed]",
            "text/plain": [
              "<Figure size 432x288 with 1 Axes>"
            ]
          },
          "metadata": {
            "needs_background": "light"
          },
          "output_type": "display_data"
        }
      ],
      "source": [
        "#Evaluation of the parameters in training data\n",
        "\n",
        "plt.scatter(y_treino, y_teste_predito_forest)\n",
        "plt.xlabel('True Value')\n",
        "plt.ylabel('Predicted Value')\n",
        "plt.show()"
      ]
    },
    {
      "cell_type": "code",
      "execution_count": 18,
      "metadata": {
        "colab": {
          "base_uri": "https://localhost:8080/"
        },
        "dotnet_interactive": {
          "language": "csharp"
        },
        "id": "d90tIGIIgaU6",
        "outputId": "620cd81c-3fea-4af8-ad1c-3a3db17f4108",
        "polyglot_notebook": {
          "kernelName": "csharp"
        }
      },
      "outputs": [
        {
          "name": "stdout",
          "output_type": "stream",
          "text": [
            "Soma dos Erros ao Quadrado (SSE): 13746.92\n",
            "Erro Quadrático Médio (MSE): 154.46\n",
            "Erro Médio Absoluto (MAE): 4.13\n",
            "Raiz do Erro Quadrático Médio (RMSE): 12.43\n",
            "R2-score: 99.47%\n"
          ]
        }
      ],
      "source": [
        "#Analysing the results in training data\n",
        "\n",
        "sse = np.sum((y_teste_predito_forest - y_treino)**2)\n",
        "mse = mean_squared_error(y_treino, y_teste_predito_forest)\n",
        "mae = mean_absolute_error(y_treino, y_teste_predito_forest)\n",
        "rmse = np.sqrt(mean_squared_error(y_treino, y_teste_predito_forest))\n",
        "r2 = r2_score(y_teste_predito_forest, y_treino)\n",
        "\n",
        "print(f\"Sum of Squared Errors (SSE): {sse:.2f}\")\n",
        "print(f\"Mean Squared Error (MSE): {mse:.2f}\")\n",
        "print(f\"Mean Absolut Error (MAE): {mae:.2f}\")\n",
        "print(f\"Root Mean Squared Error (RMSE): {rmse:.2f}\")\n",
        "print(f\"R2-score: {r2:.2%}\")"
      ]
    },
    {
      "cell_type": "code",
      "execution_count": 19,
      "metadata": {
        "colab": {
          "base_uri": "https://localhost:8080/"
        },
        "dotnet_interactive": {
          "language": "csharp"
        },
        "id": "8W9zhV_-gaU6",
        "outputId": "14dffb33-e006-4908-d7b7-09347b49e0c9",
        "polyglot_notebook": {
          "kernelName": "csharp"
        }
      },
      "outputs": [
        {
          "name": "stdout",
          "output_type": "stream",
          "text": [
            "Predição usando regressão, retorna valores continuos: [565.   220.   545.   456.75 300.   347.   515.   306.   422.   247.\n",
            " 220.   495.   196.   659.   515.   485.   456.75 710.   250.   750.\n",
            " 255.   340.   485.  ]\n"
          ]
        }
      ],
      "source": [
        "#Using the predict method in test data\n",
        "\n",
        "y_teste_predito = dtr.predict(x_teste)\n",
        "print(\"Prediction using regression, returns continuous values {}\".format(y_teste_predito))"
      ]
    },
    {
      "cell_type": "code",
      "execution_count": 20,
      "metadata": {
        "colab": {
          "base_uri": "https://localhost:8080/",
          "height": 279
        },
        "dotnet_interactive": {
          "language": "csharp"
        },
        "id": "RPVEM3kXgaU7",
        "outputId": "696c66f3-ac8c-4c93-8bba-df7052e5dd8d",
        "polyglot_notebook": {
          "kernelName": "csharp"
        }
      },
      "outputs": [
        {
          "data": {
            "image/png": "[encoded data removed]",
            "text/plain": [
              "<Figure size 432x288 with 1 Axes>"
            ]
          },
          "metadata": {
            "needs_background": "light"
          },
          "output_type": "display_data"
        }
      ],
      "source": [
        "#Evaluation of the parameters in test data\n",
        "\n",
        "plt.scatter(y_teste, y_teste_predito)\n",
        "plt.xlabel('True Value')\n",
        "plt.ylabel('Predicted Value')\n",
        "plt.show()"
      ]
    },
    {
      "cell_type": "code",
      "execution_count": 21,
      "metadata": {
        "colab": {
          "base_uri": "https://localhost:8080/"
        },
        "dotnet_interactive": {
          "language": "csharp"
        },
        "id": "bv8cpOpZgaU7",
        "outputId": "3478347f-4ea9-43e0-db0d-1c5b221b9327",
        "polyglot_notebook": {
          "kernelName": "csharp"
        }
      },
      "outputs": [
        {
          "name": "stdout",
          "output_type": "stream",
          "text": [
            "Soma dos Erros ao Quadrado (SSE): 147742.12\n",
            "Erro Quadrático Médio (MSE): 6423.57\n",
            "Erro Médio Absoluto (MAE): 52.13\n",
            "Raiz do Erro Quadrático Médio (RMSE): 80.15\n",
            "R2-score: 74.38%\n"
          ]
        }
      ],
      "source": [
        "#Analysing the results in test data\n",
        "\n",
        "sse = np.sum((y_teste_predito - y_teste)**2)\n",
        "mse = mean_squared_error(y_teste, y_teste_predito)\n",
        "mae = mean_absolute_error(y_teste, y_teste_predito)\n",
        "rmse = np.sqrt(mean_squared_error(y_teste, y_teste_predito))\n",
        "r2 = r2_score(y_teste_predito, y_teste)\n",
        "\n",
        "print(f\"Sum of Squared Errors (SSE): {sse:.2f}\")\n",
        "print(f\"Mean Squared Error (MSE): {mse:.2f}\")\n",
        "print(f\"Mean Absolut Error (MAE): {mae:.2f}\")\n",
        "print(f\"Root Mean Squared Error (RMSE): {rmse:.2f}\")\n",
        "print(f\"R2-score: {r2:.2%}\")"
      ]
    },
    {
      "attachments": {},
      "cell_type": "markdown",
      "metadata": {
        "dotnet_interactive": {
          "language": "csharp"
        },
        "id": "wPYwkLgtgaU7",
        "polyglot_notebook": {
          "kernelName": "csharp"
        }
      },
      "source": [
        "### Algorithm 2 -> Random Forest Regression"
      ]
    },
    {
      "cell_type": "code",
      "execution_count": 22,
      "metadata": {
        "dotnet_interactive": {
          "language": "csharp"
        },
        "id": "r4aSp7PCgaU7",
        "polyglot_notebook": {
          "kernelName": "csharp"
        }
      },
      "outputs": [],
      "source": [
        "#Importing\n",
        "from sklearn.ensemble import RandomForestRegressor\n",
        "\n",
        "rfr = RandomForestRegressor()"
      ]
    },
    {
      "cell_type": "code",
      "execution_count": 23,
      "metadata": {
        "colab": {
          "base_uri": "https://localhost:8080/",
          "height": 75
        },
        "dotnet_interactive": {
          "language": "csharp"
        },
        "id": "mmwqe2T6gaU7",
        "outputId": "69aa9197-9898-44ef-ee4b-d2adf2905b18",
        "polyglot_notebook": {
          "kernelName": "csharp"
        }
      },
      "outputs": [
        {
          "data": {
            "text/html": [
              "<style>#sk-container-id-2 {color: black;background-color: white;}#sk-container-id-2 pre{padding: 0;}#sk-container-id-2 div.sk-toggleable {background-color: white;}#sk-container-id-2 label.sk-toggleable__label {cursor: pointer;display: block;width: 100%;margin-bottom: 0;padding: 0.3em;box-sizing: border-box;text-align: center;}#sk-container-id-2 label.sk-toggleable__label-arrow:before {content: \"▸\";float: left;margin-right: 0.25em;color: #696969;}#sk-container-id-2 label.sk-toggleable__label-arrow:hover:before {color: black;}#sk-container-id-2 div.sk-estimator:hover label.sk-toggleable__label-arrow:before {color: black;}#sk-container-id-2 div.sk-toggleable__content {max-height: 0;max-width: 0;overflow: hidden;text-align: left;background-color: #f0f8ff;}#sk-container-id-2 div.sk-toggleable__content pre {margin: 0.2em;color: black;border-radius: 0.25em;background-color: #f0f8ff;}#sk-container-id-2 input.sk-toggleable__control:checked~div.sk-toggleable__content {max-height: 200px;max-width: 100%;overflow: auto;}#sk-container-id-2 input.sk-toggleable__control:checked~label.sk-toggleable__label-arrow:before {content: \"▾\";}#sk-container-id-2 div.sk-estimator input.sk-toggleable__control:checked~label.sk-toggleable__label {background-color: #d4ebff;}#sk-container-id-2 div.sk-label input.sk-toggleable__control:checked~label.sk-toggleable__label {background-color: #d4ebff;}#sk-container-id-2 input.sk-hidden--visually {border: 0;clip: rect(1px 1px 1px 1px);clip: rect(1px, 1px, 1px, 1px);height: 1px;margin: -1px;overflow: hidden;padding: 0;position: absolute;width: 1px;}#sk-container-id-2 div.sk-estimator {font-family: monospace;background-color: #f0f8ff;border: 1px dotted black;border-radius: 0.25em;box-sizing: border-box;margin-bottom: 0.5em;}#sk-container-id-2 div.sk-estimator:hover {background-color: #d4ebff;}#sk-container-id-2 div.sk-parallel-item::after {content: \"\";width: 100%;border-bottom: 1px solid gray;flex-grow: 1;}#sk-container-id-2 div.sk-label:hover label.sk-toggleable__label {background-color: #d4ebff;}#sk-container-id-2 div.sk-serial::before {content: \"\";position: absolute;border-left: 1px solid gray;box-sizing: border-box;top: 0;bottom: 0;left: 50%;z-index: 0;}#sk-container-id-2 div.sk-serial {display: flex;flex-direction: column;align-items: center;background-color: white;padding-right: 0.2em;padding-left: 0.2em;position: relative;}#sk-container-id-2 div.sk-item {position: relative;z-index: 1;}#sk-container-id-2 div.sk-parallel {display: flex;align-items: stretch;justify-content: center;background-color: white;position: relative;}#sk-container-id-2 div.sk-item::before, #sk-container-id-2 div.sk-parallel-item::before {content: \"\";position: absolute;border-left: 1px solid gray;box-sizing: border-box;top: 0;bottom: 0;left: 50%;z-index: -1;}#sk-container-id-2 div.sk-parallel-item {display: flex;flex-direction: column;z-index: 1;position: relative;background-color: white;}#sk-container-id-2 div.sk-parallel-item:first-child::after {align-self: flex-end;width: 50%;}#sk-container-id-2 div.sk-parallel-item:last-child::after {align-self: flex-start;width: 50%;}#sk-container-id-2 div.sk-parallel-item:only-child::after {width: 0;}#sk-container-id-2 div.sk-dashed-wrapped {border: 1px dashed gray;margin: 0 0.4em 0.5em 0.4em;box-sizing: border-box;padding-bottom: 0.4em;background-color: white;}#sk-container-id-2 div.sk-label label {font-family: monospace;font-weight: bold;display: inline-block;line-height: 1.2em;}#sk-container-id-2 div.sk-label-container {text-align: center;}#sk-container-id-2 div.sk-container {/* jupyter's `normalize.less` sets `[hidden] { display: none; }` but bootstrap.min.css set `[hidden] { display: none !important; }` so we also need the `!important` here to be able to override the default hidden behavior on the sphinx rendered scikit-learn.org. See: https://github.com/scikit-learn/scikit-learn/issues/21755 */display: inline-block !important;position: relative;}#sk-container-id-2 div.sk-text-repr-fallback {display: none;}</style><div id=\"sk-container-id-2\" class=\"sk-top-container\"><div class=\"sk-text-repr-fallback\"><pre>RandomForestRegressor()</pre><b>In a Jupyter environment, please rerun this cell to show the HTML representation or trust the notebook. <br />On GitHub, the HTML representation is unable to render, please try loading this page with nbviewer.org.</b></div><div class=\"sk-container\" hidden><div class=\"sk-item\"><div class=\"sk-estimator sk-toggleable\"><input class=\"sk-toggleable__control sk-hidden--visually\" id=\"sk-estimator-id-2\" type=\"checkbox\" checked><label for=\"sk-estimator-id-2\" class=\"sk-toggleable__label sk-toggleable__label-arrow\">RandomForestRegressor</label><div class=\"sk-toggleable__content\"><pre>RandomForestRegressor()</pre></div></div></div></div></div>"
            ],
            "text/plain": [
              "RandomForestRegressor()"
            ]
          },
          "execution_count": 23,
          "metadata": {},
          "output_type": "execute_result"
        }
      ],
      "source": [
        "#Fitting the data\n",
        "rfr.fit(x_treino, y_treino)"
      ]
    },
    {
      "cell_type": "code",
      "execution_count": 24,
      "metadata": {
        "colab": {
          "base_uri": "https://localhost:8080/"
        },
        "dotnet_interactive": {
          "language": "csharp"
        },
        "id": "e_ceBAbogaU7",
        "outputId": "00351a97-5e91-4571-ba90-d3efa46da762",
        "polyglot_notebook": {
          "kernelName": "csharp"
        }
      },
      "outputs": [
        {
          "name": "stdout",
          "output_type": "stream",
          "text": [
            "Predição usando regressão, retorna valores continuos: [243.07       236.225      801.4        297.91433333 310.045\n",
            " 485.19       313.72       274.76       734.6425     248.67866667\n",
            " 494.81       344.683      268.19666667 228.43666667 270.\n",
            " 249.93       246.975      333.27466667 277.46       549.55\n",
            " 517.57       640.825      495.81190476 245.66       542.\n",
            " 204.28033333 344.683      278.32       579.49       309.68\n",
            " 456.75986364 270.83       347.54       314.473      456.75986364\n",
            " 257.84266667 344.683      303.88       336.41       527.41\n",
            " 561.7        260.96       850.57666667 228.82666667 692.87416667\n",
            " 380.51809524 499.86       539.455      518.67       397.06233333\n",
            " 228.04833333 303.88       456.75986364 596.27166667 249.93\n",
            " 721.6425     556.76       303.905      538.255      232.87\n",
            " 204.28033333 215.33666667 399.73       242.42       466.14335714\n",
            " 240.92533333 504.         708.66       801.4        463.078\n",
            " 596.27166667 578.1325     465.25466667 206.7        457.66333333\n",
            " 205.7        211.93       214.89       314.63       456.75986364\n",
            " 616.61285714 527.6705     334.59142857 260.96       373.15\n",
            " 300.885      517.03635714 316.155      223.21      ]\n"
          ]
        }
      ],
      "source": [
        "#Using the predict method in training data\n",
        "y_teste_predito_forest = rfr.predict(x_treino)\n",
        "print(\"Prediction using regression, returns continuous values: {}\".format(y_teste_predito_forest))"
      ]
    },
    {
      "cell_type": "code",
      "execution_count": 25,
      "metadata": {
        "colab": {
          "base_uri": "https://localhost:8080/",
          "height": 279
        },
        "dotnet_interactive": {
          "language": "csharp"
        },
        "id": "bRDgNHJbgaU7",
        "outputId": "f5136e1b-a1ac-4b50-a814-bb4093eec756",
        "polyglot_notebook": {
          "kernelName": "csharp"
        }
      },
      "outputs": [
        {
          "data": {
            "image/png": "[encoded data removed]",
            "text/plain": [
              "<Figure size 432x288 with 1 Axes>"
            ]
          },
          "metadata": {
            "needs_background": "light"
          },
          "output_type": "display_data"
        }
      ],
      "source": [
        "#Evaluation of the parameters in training data\n",
        "\n",
        "plt.scatter(y_treino, y_teste_predito_forest)\n",
        "plt.xlabel('True value')\n",
        "plt.ylabel('Predicted value')\n",
        "plt.show()"
      ]
    },
    {
      "cell_type": "code",
      "execution_count": 26,
      "metadata": {
        "colab": {
          "base_uri": "https://localhost:8080/"
        },
        "dotnet_interactive": {
          "language": "csharp"
        },
        "id": "Z4Dml-SVgaU7",
        "outputId": "b39a8cb5-51c5-428f-bdee-d14feddef1ba",
        "polyglot_notebook": {
          "kernelName": "csharp"
        }
      },
      "outputs": [
        {
          "name": "stdout",
          "output_type": "stream",
          "text": [
            "Soma dos Erros ao Quadrado (SSE): 80356.13\n",
            "Erro Quadrático Médio (MSE): 902.88\n",
            "Erro Médio Absoluto (MAE): 22.63\n",
            "Raiz do Erro Quadrático Médio (RMSE): 30.05\n",
            "R2-score: 96.57%\n"
          ]
        }
      ],
      "source": [
        "#Analysing the results in training data\n",
        "\n",
        "sse = np.sum((y_teste_predito_forest - y_treino)**2)\n",
        "mse = mean_squared_error(y_treino, y_teste_predito_forest)\n",
        "mae = mean_absolute_error(y_treino, y_teste_predito_forest)\n",
        "rmse = np.sqrt(mean_squared_error(y_treino, y_teste_predito_forest))\n",
        "r2 = r2_score(y_teste_predito_forest, y_treino)\n",
        "\n",
        "print(f\"Sum of Squared Errors (SSE): {sse:.2f}\")\n",
        "print(f\"Mean Squared Error (MSE): {mse:.2f}\")\n",
        "print(f\"Mean Absolut Error (MAE): {mae:.2f}\")\n",
        "print(f\"Root Mean Squared Error (RMSE): {rmse:.2f}\")\n",
        "print(f\"R2-score: {r2:.2%}\")"
      ]
    },
    {
      "cell_type": "code",
      "execution_count": 27,
      "metadata": {
        "colab": {
          "base_uri": "https://localhost:8080/"
        },
        "dotnet_interactive": {
          "language": "csharp"
        },
        "id": "eu9jOwoDgaU8",
        "outputId": "e3dbf8ab-6cb9-4181-c1e3-7e28f7f65c8c",
        "polyglot_notebook": {
          "kernelName": "csharp"
        }
      },
      "outputs": [
        {
          "name": "stdout",
          "output_type": "stream",
          "text": [
            "Predição usando regressão, retorna valores continuos: [484.2037381  246.39       526.8905     456.75986364 303.785\n",
            " 431.33466667 561.7        308.06       463.078      249.93\n",
            " 245.66       527.41       216.52833333 612.745      550.93583333\n",
            " 465.25466667 456.75986364 597.29       239.19       662.8\n",
            " 239.73866667 333.27466667 396.82666667]\n"
          ]
        }
      ],
      "source": [
        "#Using the predict method in test data\n",
        "\n",
        "y_teste_predito_forest = rfr.predict(x_teste)\n",
        "print(\"Prediction using regression, returns continuous values: {}\".format(y_teste_predito_forest))"
      ]
    },
    {
      "cell_type": "code",
      "execution_count": 28,
      "metadata": {
        "colab": {
          "base_uri": "https://localhost:8080/",
          "height": 279
        },
        "dotnet_interactive": {
          "language": "csharp"
        },
        "id": "oqH0EUGpgaU8",
        "outputId": "9d59d9da-4178-4203-f857-7af060f94a92",
        "polyglot_notebook": {
          "kernelName": "csharp"
        }
      },
      "outputs": [
        {
          "data": {
            "image/png": "[encoded data removed]",
            "text/plain": [
              "<Figure size 432x288 with 1 Axes>"
            ]
          },
          "metadata": {
            "needs_background": "light"
          },
          "output_type": "display_data"
        }
      ],
      "source": [
        "#Evaluation of the parameters in test data\n",
        "\n",
        "plt.scatter(y_teste, y_teste_predito_forest)\n",
        "plt.xlabel('True Value')\n",
        "plt.ylabel('Predicted Value')\n",
        "plt.show()"
      ]
    },
    {
      "cell_type": "code",
      "execution_count": 29,
      "metadata": {
        "colab": {
          "base_uri": "https://localhost:8080/"
        },
        "dotnet_interactive": {
          "language": "csharp"
        },
        "id": "9cnm-SZvgaU8",
        "outputId": "b62f2a83-ab43-470f-9543-02ca30252a7f",
        "polyglot_notebook": {
          "kernelName": "csharp"
        }
      },
      "outputs": [
        {
          "name": "stdout",
          "output_type": "stream",
          "text": [
            "Soma dos Erros ao Quadrado (SSE): 122818.25\n",
            "Erro Quadrático Médio (MSE): 5339.92\n",
            "Erro Médio Absoluto (MAE): 51.54\n",
            "Raiz do Erro Quadrático Médio (RMSE): 73.07\n",
            "R2-score: 71.33%\n"
          ]
        }
      ],
      "source": [
        "#Analysing the results in test data\n",
        "\n",
        "sse = np.sum((y_teste_predito_forest - y_teste)**2)\n",
        "mse = mean_squared_error(y_teste, y_teste_predito_forest)\n",
        "mae = mean_absolute_error(y_teste, y_teste_predito_forest)\n",
        "rmse = np.sqrt(mean_squared_error(y_teste, y_teste_predito_forest))\n",
        "r2 = r2_score(y_teste_predito_forest, y_teste)\n",
        "\n",
        "print(f\"Sum of Squared Errors (SSE): {sse:.2f}\")\n",
        "print(f\"Mean Squared Error (MSE): {mse:.2f}\")\n",
        "print(f\"Mean Absolut Error (MAE): {mae:.2f}\")\n",
        "print(f\"Root Mean Squared Error (RMSE): {rmse:.2f}\")\n",
        "print(f\"R2-score: {r2:.2%}\")"
      ]
    },
    {
      "attachments": {},
      "cell_type": "markdown",
      "metadata": {
        "dotnet_interactive": {
          "language": "csharp"
        },
        "id": "muHlivzNgaU8",
        "polyglot_notebook": {
          "kernelName": "csharp"
        }
      },
      "source": [
        "Sumarize in the table below the results obtained for the training and test datasets"
      ]
    },
    {
      "cell_type": "markdown",
      "metadata": {
        "dotnet_interactive": {
          "language": "csharp"
        },
        "id": "7lDhDYJdgaU8",
        "polyglot_notebook": {
          "kernelName": "csharp"
        }
      },
      "source": [
        "###**Resposta:**\n",
        "\n",
        "|    | algoritmo1 | algoritmo2 |\n",
        "|:---:|:---:|:---:|\n",
        "| treino (R²) | 99.47% | 96.57% |\n",
        "| teste (R²)  | 74.38% | 71.33% |"
      ]
    },
    {
      "attachments": {},
      "cell_type": "markdown",
      "metadata": {
        "dotnet_interactive": {
          "language": "csharp"
        },
        "id": "DLmInZ7JgaU8",
        "polyglot_notebook": {
          "kernelName": "csharp"
        }
      },
      "source": [
        "###Which algorithm had the best result? Justify\n",
        "\n",
        "###**Answer:** \n",
        "The  algorithm, , had a better result;\n",
        "\n",
        "Não só teve um R² score maior, tendo uma menor taxa de erros, como ele tende a ser mais confiável, uma vez que seu algorítmo, em teste, atingiu uma precição acima de 99% o R² score.\n",
        "\n",
        "Not only did it have a higher R² score, having a lower error rate, but it tends to be more reliable, since its algorithm, in test, reached a precision above 99% the R² score."
      ]
    },
    {
      "attachments": {},
      "cell_type": "markdown",
      "metadata": {
        "dotnet_interactive": {
          "language": "csharp"
        },
        "id": "n7f7xM_bgaU8",
        "polyglot_notebook": {
          "kernelName": "csharp"
        }
      },
      "source": [
        "## Production model: Test with new data\n",
        "\n",
        "Use your trained model to determine:\n",
        "\n",
        "**`How much is a 72m2 apartment with 2 rooms, 2 parking spaces, renovated in the Center worth?`**\t"
      ]
    },
    {
      "cell_type": "code",
      "execution_count": 30,
      "metadata": {
        "colab": {
          "base_uri": "https://localhost:8080/"
        },
        "dotnet_interactive": {
          "language": "csharp"
        },
        "id": "-fOfQfT2gaU8",
        "outputId": "aed50fc6-f80c-4104-ebc5-84fbf346a827",
        "polyglot_notebook": {
          "kernelName": "csharp"
        }
      },
      "outputs": [
        {
          "data": {
            "text/plain": [
              "Index(['metros', 'valor', 'quartos', 'vagas', 'reformado', 'bairro_Assuncao',\n",
              "       'bairro_Baeta Neves', 'bairro_Centro', 'bairro_Demarchi',\n",
              "       'bairro_Ferrazopolis', 'bairro_Independencia', 'bairro_Iraja',\n",
              "       'bairro_Jardim do Mar', 'bairro_Jordanopolis', 'bairro_Nova Petropolis',\n",
              "       'bairro_Pauliceia', 'bairro_Piraporinha', 'bairro_Planalto',\n",
              "       'bairro_Rudge Ramos', 'bairro_Santa Teresinha', 'bairro_Taboao',\n",
              "       'bairro_Vila Lusitania'],\n",
              "      dtype='object')"
            ]
          },
          "execution_count": 30,
          "metadata": {},
          "output_type": "execute_result"
        }
      ],
      "source": [
        "df_treino_teste.columns"
      ]
    },
    {
      "cell_type": "code",
      "execution_count": 31,
      "metadata": {
        "dotnet_interactive": {
          "language": "csharp"
        },
        "id": "28vUicFBgaU8",
        "polyglot_notebook": {
          "kernelName": "csharp"
        }
      },
      "outputs": [],
      "source": [
        "#Ignorar warning\n",
        "import warnings\n",
        "warnings.simplefilter(\"ignore\")"
      ]
    },
    {
      "cell_type": "code",
      "execution_count": 32,
      "metadata": {
        "colab": {
          "base_uri": "https://localhost:8080/"
        },
        "dotnet_interactive": {
          "language": "csharp"
        },
        "id": "fHc044LwgaU9",
        "outputId": "249a282d-ab59-4a41-d7e2-45a165cd2621",
        "polyglot_notebook": {
          "kernelName": "csharp"
        }
      },
      "outputs": [
        {
          "name": "stdout",
          "output_type": "stream",
          "text": [
            "Valor predito: R$341333.33\n"
          ]
        }
      ],
      "source": [
        "#Value\n",
        "print(f\"Predicted value: R${(dtr.predict([[72,2,2,1, 0, 0, 1, 0, 0, 0, 0, 0, 0, 0, 0, 0, 0, 0, 0, 0, 0]])[0])*1000:.2f}\")"
      ]
    },
    {
      "attachments": {},
      "cell_type": "markdown",
      "metadata": {
        "dotnet_interactive": {
          "language": "csharp"
        },
        "id": "oCrstntDgaU9",
        "polyglot_notebook": {
          "kernelName": "csharp"
        }
      },
      "source": [
        "## 6. Final considerations\n",
        "\n",
        "Phew!!... We have reached the end. Congratulations! In a simplified and complete way, we have gone through all the steps of a machine learning project. Other steps can be added in the data treatment and model development."
      ]
    },
    {
      "attachments": {},
      "cell_type": "markdown",
      "metadata": {
        "dotnet_interactive": {
          "language": "csharp"
        },
        "id": "gwXxL7yegaU9",
        "polyglot_notebook": {
          "kernelName": "csharp"
        }
      },
      "source": [
        "###The developed model had a satisfactory result? Justify:\n",
        "\n",
        "\n",
        "###**Answer**:\n",
        "Yes, the result was satisfactory, since both models reached an accuracy rate of over 70% in the R² score rate, with the first algorithm, Regression Tree, reaching 80.89% accuracy, in the same parameter."
      ]
    },
    {
      "attachments": {},
      "cell_type": "markdown",
      "metadata": {
        "dotnet_interactive": {
          "language": "csharp"
        },
        "id": "UZvEB1rEgaU9",
        "polyglot_notebook": {
          "kernelName": "csharp"
        }
      },
      "source": [
        "###What would you do differently to improve the result obtained? Justify:\n",
        "\n",
        "###**Answer**:\n",
        "One possibility would be to treat the outliers, since they may have changed some decision node of one or more trees of the Random Forrest model.\n",
        "\n",
        "Another possibility would be to make a subdataset without the \"reformado\" field, since it was observed that this field changes little to nothing the value of the property, which may have caused some bias in the training."
      ]
    }
  ],
  "metadata": {
    "colab": {
      "provenance": [],
      "toc_visible": true
    },
    "kernelspec": {
      "display_name": "Python 3",
      "language": "python",
      "name": "python3"
    },
    "language_info": {
      "codemirror_mode": {
        "name": "ipython",
        "version": 3
      },
      "file_extension": ".py",
      "mimetype": "text/x-python",
      "name": "python",
      "nbconvert_exporter": "python",
      "pygments_lexer": "ipython3",
      "version": "3.11.2"
    },
    "polyglot_notebook": {
      "kernelInfo": {
        "defaultKernelName": "csharp",
        "items": [
          {
            "aliases": [
              "c#",
              "C#"
            ],
            "languageName": "C#",
            "name": "csharp"
          },
          {
            "aliases": [],
            "languageName": "KQL",
            "name": "kql"
          },
          {
            "aliases": [
              "frontend"
            ],
            "languageName": null,
            "name": "vscode"
          },
          {
            "aliases": [],
            "name": ".NET"
          },
          {
            "aliases": [
              "f#",
              "F#"
            ],
            "languageName": "F#",
            "name": "fsharp"
          },
          {
            "aliases": [],
            "languageName": "HTML",
            "name": "html"
          },
          {
            "aliases": [
              "js"
            ],
            "languageName": "JavaScript",
            "name": "javascript"
          },
          {
            "aliases": [],
            "languageName": "Mermaid",
            "name": "mermaid"
          },
          {
            "aliases": [
              "powershell"
            ],
            "languageName": "PowerShell",
            "name": "pwsh"
          },
          {
            "aliases": [],
            "languageName": "SQL",
            "name": "sql"
          },
          {
            "aliases": [],
            "name": "value"
          },
          {
            "aliases": [],
            "name": "webview"
          }
        ]
      }
    }
  },
  "nbformat": 4,
  "nbformat_minor": 0
}
